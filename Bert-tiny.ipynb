{
  "nbformat": 4,
  "nbformat_minor": 0,
  "metadata": {
    "colab": {
      "provenance": [],
      "gpuType": "T4",
      "authorship_tag": "ABX9TyNvByp7rX7pw5HrRkHKUz5j",
      "include_colab_link": true
    },
    "kernelspec": {
      "name": "python3",
      "display_name": "Python 3"
    },
    "language_info": {
      "name": "python"
    },
    "accelerator": "GPU",
    "widgets": {
      "application/vnd.jupyter.widget-state+json": {
        "a7b9c3c0f381453199fbbfdd6977302b": {
          "model_module": "@jupyter-widgets/controls",
          "model_name": "HBoxModel",
          "model_module_version": "1.5.0",
          "state": {
            "_dom_classes": [],
            "_model_module": "@jupyter-widgets/controls",
            "_model_module_version": "1.5.0",
            "_model_name": "HBoxModel",
            "_view_count": null,
            "_view_module": "@jupyter-widgets/controls",
            "_view_module_version": "1.5.0",
            "_view_name": "HBoxView",
            "box_style": "",
            "children": [
              "IPY_MODEL_ac7c0b63c9b940ec9fa316c08e7cb502",
              "IPY_MODEL_fc553fc64acf47a6a4da651cf0b0f48c",
              "IPY_MODEL_28a11430ef6d40ce8f40827e35bad0d3"
            ],
            "layout": "IPY_MODEL_eed4dcecbe674fccada46a3980fb2e01"
          }
        },
        "ac7c0b63c9b940ec9fa316c08e7cb502": {
          "model_module": "@jupyter-widgets/controls",
          "model_name": "HTMLModel",
          "model_module_version": "1.5.0",
          "state": {
            "_dom_classes": [],
            "_model_module": "@jupyter-widgets/controls",
            "_model_module_version": "1.5.0",
            "_model_name": "HTMLModel",
            "_view_count": null,
            "_view_module": "@jupyter-widgets/controls",
            "_view_module_version": "1.5.0",
            "_view_name": "HTMLView",
            "description": "",
            "description_tooltip": null,
            "layout": "IPY_MODEL_c0917876d555483e9226685ae57e925e",
            "placeholder": "​",
            "style": "IPY_MODEL_a058802130a04406bb6d3819d8956ca1",
            "value": "pytorch_model.bin: 100%"
          }
        },
        "fc553fc64acf47a6a4da651cf0b0f48c": {
          "model_module": "@jupyter-widgets/controls",
          "model_name": "FloatProgressModel",
          "model_module_version": "1.5.0",
          "state": {
            "_dom_classes": [],
            "_model_module": "@jupyter-widgets/controls",
            "_model_module_version": "1.5.0",
            "_model_name": "FloatProgressModel",
            "_view_count": null,
            "_view_module": "@jupyter-widgets/controls",
            "_view_module_version": "1.5.0",
            "_view_name": "ProgressView",
            "bar_style": "success",
            "description": "",
            "description_tooltip": null,
            "layout": "IPY_MODEL_ad2568caa0aa41d686e61c14bad2fdb7",
            "max": 17756393,
            "min": 0,
            "orientation": "horizontal",
            "style": "IPY_MODEL_9f7ba91cfb7c4e9e8067c45f4d15a414",
            "value": 17756393
          }
        },
        "28a11430ef6d40ce8f40827e35bad0d3": {
          "model_module": "@jupyter-widgets/controls",
          "model_name": "HTMLModel",
          "model_module_version": "1.5.0",
          "state": {
            "_dom_classes": [],
            "_model_module": "@jupyter-widgets/controls",
            "_model_module_version": "1.5.0",
            "_model_name": "HTMLModel",
            "_view_count": null,
            "_view_module": "@jupyter-widgets/controls",
            "_view_module_version": "1.5.0",
            "_view_name": "HTMLView",
            "description": "",
            "description_tooltip": null,
            "layout": "IPY_MODEL_c304e0a8813844048e7de5db17b80550",
            "placeholder": "​",
            "style": "IPY_MODEL_73e4e2d19273491b8b7d5826b4d9d63e",
            "value": " 17.8M/17.8M [00:00&lt;00:00, 133MB/s]"
          }
        },
        "eed4dcecbe674fccada46a3980fb2e01": {
          "model_module": "@jupyter-widgets/base",
          "model_name": "LayoutModel",
          "model_module_version": "1.2.0",
          "state": {
            "_model_module": "@jupyter-widgets/base",
            "_model_module_version": "1.2.0",
            "_model_name": "LayoutModel",
            "_view_count": null,
            "_view_module": "@jupyter-widgets/base",
            "_view_module_version": "1.2.0",
            "_view_name": "LayoutView",
            "align_content": null,
            "align_items": null,
            "align_self": null,
            "border": null,
            "bottom": null,
            "display": null,
            "flex": null,
            "flex_flow": null,
            "grid_area": null,
            "grid_auto_columns": null,
            "grid_auto_flow": null,
            "grid_auto_rows": null,
            "grid_column": null,
            "grid_gap": null,
            "grid_row": null,
            "grid_template_areas": null,
            "grid_template_columns": null,
            "grid_template_rows": null,
            "height": null,
            "justify_content": null,
            "justify_items": null,
            "left": null,
            "margin": null,
            "max_height": null,
            "max_width": null,
            "min_height": null,
            "min_width": null,
            "object_fit": null,
            "object_position": null,
            "order": null,
            "overflow": null,
            "overflow_x": null,
            "overflow_y": null,
            "padding": null,
            "right": null,
            "top": null,
            "visibility": null,
            "width": null
          }
        },
        "c0917876d555483e9226685ae57e925e": {
          "model_module": "@jupyter-widgets/base",
          "model_name": "LayoutModel",
          "model_module_version": "1.2.0",
          "state": {
            "_model_module": "@jupyter-widgets/base",
            "_model_module_version": "1.2.0",
            "_model_name": "LayoutModel",
            "_view_count": null,
            "_view_module": "@jupyter-widgets/base",
            "_view_module_version": "1.2.0",
            "_view_name": "LayoutView",
            "align_content": null,
            "align_items": null,
            "align_self": null,
            "border": null,
            "bottom": null,
            "display": null,
            "flex": null,
            "flex_flow": null,
            "grid_area": null,
            "grid_auto_columns": null,
            "grid_auto_flow": null,
            "grid_auto_rows": null,
            "grid_column": null,
            "grid_gap": null,
            "grid_row": null,
            "grid_template_areas": null,
            "grid_template_columns": null,
            "grid_template_rows": null,
            "height": null,
            "justify_content": null,
            "justify_items": null,
            "left": null,
            "margin": null,
            "max_height": null,
            "max_width": null,
            "min_height": null,
            "min_width": null,
            "object_fit": null,
            "object_position": null,
            "order": null,
            "overflow": null,
            "overflow_x": null,
            "overflow_y": null,
            "padding": null,
            "right": null,
            "top": null,
            "visibility": null,
            "width": null
          }
        },
        "a058802130a04406bb6d3819d8956ca1": {
          "model_module": "@jupyter-widgets/controls",
          "model_name": "DescriptionStyleModel",
          "model_module_version": "1.5.0",
          "state": {
            "_model_module": "@jupyter-widgets/controls",
            "_model_module_version": "1.5.0",
            "_model_name": "DescriptionStyleModel",
            "_view_count": null,
            "_view_module": "@jupyter-widgets/base",
            "_view_module_version": "1.2.0",
            "_view_name": "StyleView",
            "description_width": ""
          }
        },
        "ad2568caa0aa41d686e61c14bad2fdb7": {
          "model_module": "@jupyter-widgets/base",
          "model_name": "LayoutModel",
          "model_module_version": "1.2.0",
          "state": {
            "_model_module": "@jupyter-widgets/base",
            "_model_module_version": "1.2.0",
            "_model_name": "LayoutModel",
            "_view_count": null,
            "_view_module": "@jupyter-widgets/base",
            "_view_module_version": "1.2.0",
            "_view_name": "LayoutView",
            "align_content": null,
            "align_items": null,
            "align_self": null,
            "border": null,
            "bottom": null,
            "display": null,
            "flex": null,
            "flex_flow": null,
            "grid_area": null,
            "grid_auto_columns": null,
            "grid_auto_flow": null,
            "grid_auto_rows": null,
            "grid_column": null,
            "grid_gap": null,
            "grid_row": null,
            "grid_template_areas": null,
            "grid_template_columns": null,
            "grid_template_rows": null,
            "height": null,
            "justify_content": null,
            "justify_items": null,
            "left": null,
            "margin": null,
            "max_height": null,
            "max_width": null,
            "min_height": null,
            "min_width": null,
            "object_fit": null,
            "object_position": null,
            "order": null,
            "overflow": null,
            "overflow_x": null,
            "overflow_y": null,
            "padding": null,
            "right": null,
            "top": null,
            "visibility": null,
            "width": null
          }
        },
        "9f7ba91cfb7c4e9e8067c45f4d15a414": {
          "model_module": "@jupyter-widgets/controls",
          "model_name": "ProgressStyleModel",
          "model_module_version": "1.5.0",
          "state": {
            "_model_module": "@jupyter-widgets/controls",
            "_model_module_version": "1.5.0",
            "_model_name": "ProgressStyleModel",
            "_view_count": null,
            "_view_module": "@jupyter-widgets/base",
            "_view_module_version": "1.2.0",
            "_view_name": "StyleView",
            "bar_color": null,
            "description_width": ""
          }
        },
        "c304e0a8813844048e7de5db17b80550": {
          "model_module": "@jupyter-widgets/base",
          "model_name": "LayoutModel",
          "model_module_version": "1.2.0",
          "state": {
            "_model_module": "@jupyter-widgets/base",
            "_model_module_version": "1.2.0",
            "_model_name": "LayoutModel",
            "_view_count": null,
            "_view_module": "@jupyter-widgets/base",
            "_view_module_version": "1.2.0",
            "_view_name": "LayoutView",
            "align_content": null,
            "align_items": null,
            "align_self": null,
            "border": null,
            "bottom": null,
            "display": null,
            "flex": null,
            "flex_flow": null,
            "grid_area": null,
            "grid_auto_columns": null,
            "grid_auto_flow": null,
            "grid_auto_rows": null,
            "grid_column": null,
            "grid_gap": null,
            "grid_row": null,
            "grid_template_areas": null,
            "grid_template_columns": null,
            "grid_template_rows": null,
            "height": null,
            "justify_content": null,
            "justify_items": null,
            "left": null,
            "margin": null,
            "max_height": null,
            "max_width": null,
            "min_height": null,
            "min_width": null,
            "object_fit": null,
            "object_position": null,
            "order": null,
            "overflow": null,
            "overflow_x": null,
            "overflow_y": null,
            "padding": null,
            "right": null,
            "top": null,
            "visibility": null,
            "width": null
          }
        },
        "73e4e2d19273491b8b7d5826b4d9d63e": {
          "model_module": "@jupyter-widgets/controls",
          "model_name": "DescriptionStyleModel",
          "model_module_version": "1.5.0",
          "state": {
            "_model_module": "@jupyter-widgets/controls",
            "_model_module_version": "1.5.0",
            "_model_name": "DescriptionStyleModel",
            "_view_count": null,
            "_view_module": "@jupyter-widgets/base",
            "_view_module_version": "1.2.0",
            "_view_name": "StyleView",
            "description_width": ""
          }
        }
      }
    }
  },
  "cells": [
    {
      "cell_type": "markdown",
      "metadata": {
        "id": "view-in-github",
        "colab_type": "text"
      },
      "source": [
        "<a href=\"https://colab.research.google.com/github/dangduong2806/google-colab/blob/main/Bert-tiny.ipynb\" target=\"_parent\"><img src=\"https://colab.research.google.com/assets/colab-badge.svg\" alt=\"Open In Colab\"/></a>"
      ]
    },
    {
      "cell_type": "code",
      "execution_count": 42,
      "metadata": {
        "colab": {
          "base_uri": "https://localhost:8080/",
          "height": 73
        },
        "id": "vldF8GdoOwqB",
        "outputId": "4dbf2b9c-1e87-44f7-a9da-36d758506077"
      },
      "outputs": [
        {
          "output_type": "display_data",
          "data": {
            "text/plain": [
              "<IPython.core.display.HTML object>"
            ],
            "text/html": [
              "\n",
              "     <input type=\"file\" id=\"files-dcede11f-08dc-4863-9c99-41024dbd5c4d\" name=\"files[]\" multiple disabled\n",
              "        style=\"border:none\" />\n",
              "     <output id=\"result-dcede11f-08dc-4863-9c99-41024dbd5c4d\">\n",
              "      Upload widget is only available when the cell has been executed in the\n",
              "      current browser session. Please rerun this cell to enable.\n",
              "      </output>\n",
              "      <script>// Copyright 2017 Google LLC\n",
              "//\n",
              "// Licensed under the Apache License, Version 2.0 (the \"License\");\n",
              "// you may not use this file except in compliance with the License.\n",
              "// You may obtain a copy of the License at\n",
              "//\n",
              "//      http://www.apache.org/licenses/LICENSE-2.0\n",
              "//\n",
              "// Unless required by applicable law or agreed to in writing, software\n",
              "// distributed under the License is distributed on an \"AS IS\" BASIS,\n",
              "// WITHOUT WARRANTIES OR CONDITIONS OF ANY KIND, either express or implied.\n",
              "// See the License for the specific language governing permissions and\n",
              "// limitations under the License.\n",
              "\n",
              "/**\n",
              " * @fileoverview Helpers for google.colab Python module.\n",
              " */\n",
              "(function(scope) {\n",
              "function span(text, styleAttributes = {}) {\n",
              "  const element = document.createElement('span');\n",
              "  element.textContent = text;\n",
              "  for (const key of Object.keys(styleAttributes)) {\n",
              "    element.style[key] = styleAttributes[key];\n",
              "  }\n",
              "  return element;\n",
              "}\n",
              "\n",
              "// Max number of bytes which will be uploaded at a time.\n",
              "const MAX_PAYLOAD_SIZE = 100 * 1024;\n",
              "\n",
              "function _uploadFiles(inputId, outputId) {\n",
              "  const steps = uploadFilesStep(inputId, outputId);\n",
              "  const outputElement = document.getElementById(outputId);\n",
              "  // Cache steps on the outputElement to make it available for the next call\n",
              "  // to uploadFilesContinue from Python.\n",
              "  outputElement.steps = steps;\n",
              "\n",
              "  return _uploadFilesContinue(outputId);\n",
              "}\n",
              "\n",
              "// This is roughly an async generator (not supported in the browser yet),\n",
              "// where there are multiple asynchronous steps and the Python side is going\n",
              "// to poll for completion of each step.\n",
              "// This uses a Promise to block the python side on completion of each step,\n",
              "// then passes the result of the previous step as the input to the next step.\n",
              "function _uploadFilesContinue(outputId) {\n",
              "  const outputElement = document.getElementById(outputId);\n",
              "  const steps = outputElement.steps;\n",
              "\n",
              "  const next = steps.next(outputElement.lastPromiseValue);\n",
              "  return Promise.resolve(next.value.promise).then((value) => {\n",
              "    // Cache the last promise value to make it available to the next\n",
              "    // step of the generator.\n",
              "    outputElement.lastPromiseValue = value;\n",
              "    return next.value.response;\n",
              "  });\n",
              "}\n",
              "\n",
              "/**\n",
              " * Generator function which is called between each async step of the upload\n",
              " * process.\n",
              " * @param {string} inputId Element ID of the input file picker element.\n",
              " * @param {string} outputId Element ID of the output display.\n",
              " * @return {!Iterable<!Object>} Iterable of next steps.\n",
              " */\n",
              "function* uploadFilesStep(inputId, outputId) {\n",
              "  const inputElement = document.getElementById(inputId);\n",
              "  inputElement.disabled = false;\n",
              "\n",
              "  const outputElement = document.getElementById(outputId);\n",
              "  outputElement.innerHTML = '';\n",
              "\n",
              "  const pickedPromise = new Promise((resolve) => {\n",
              "    inputElement.addEventListener('change', (e) => {\n",
              "      resolve(e.target.files);\n",
              "    });\n",
              "  });\n",
              "\n",
              "  const cancel = document.createElement('button');\n",
              "  inputElement.parentElement.appendChild(cancel);\n",
              "  cancel.textContent = 'Cancel upload';\n",
              "  const cancelPromise = new Promise((resolve) => {\n",
              "    cancel.onclick = () => {\n",
              "      resolve(null);\n",
              "    };\n",
              "  });\n",
              "\n",
              "  // Wait for the user to pick the files.\n",
              "  const files = yield {\n",
              "    promise: Promise.race([pickedPromise, cancelPromise]),\n",
              "    response: {\n",
              "      action: 'starting',\n",
              "    }\n",
              "  };\n",
              "\n",
              "  cancel.remove();\n",
              "\n",
              "  // Disable the input element since further picks are not allowed.\n",
              "  inputElement.disabled = true;\n",
              "\n",
              "  if (!files) {\n",
              "    return {\n",
              "      response: {\n",
              "        action: 'complete',\n",
              "      }\n",
              "    };\n",
              "  }\n",
              "\n",
              "  for (const file of files) {\n",
              "    const li = document.createElement('li');\n",
              "    li.append(span(file.name, {fontWeight: 'bold'}));\n",
              "    li.append(span(\n",
              "        `(${file.type || 'n/a'}) - ${file.size} bytes, ` +\n",
              "        `last modified: ${\n",
              "            file.lastModifiedDate ? file.lastModifiedDate.toLocaleDateString() :\n",
              "                                    'n/a'} - `));\n",
              "    const percent = span('0% done');\n",
              "    li.appendChild(percent);\n",
              "\n",
              "    outputElement.appendChild(li);\n",
              "\n",
              "    const fileDataPromise = new Promise((resolve) => {\n",
              "      const reader = new FileReader();\n",
              "      reader.onload = (e) => {\n",
              "        resolve(e.target.result);\n",
              "      };\n",
              "      reader.readAsArrayBuffer(file);\n",
              "    });\n",
              "    // Wait for the data to be ready.\n",
              "    let fileData = yield {\n",
              "      promise: fileDataPromise,\n",
              "      response: {\n",
              "        action: 'continue',\n",
              "      }\n",
              "    };\n",
              "\n",
              "    // Use a chunked sending to avoid message size limits. See b/62115660.\n",
              "    let position = 0;\n",
              "    do {\n",
              "      const length = Math.min(fileData.byteLength - position, MAX_PAYLOAD_SIZE);\n",
              "      const chunk = new Uint8Array(fileData, position, length);\n",
              "      position += length;\n",
              "\n",
              "      const base64 = btoa(String.fromCharCode.apply(null, chunk));\n",
              "      yield {\n",
              "        response: {\n",
              "          action: 'append',\n",
              "          file: file.name,\n",
              "          data: base64,\n",
              "        },\n",
              "      };\n",
              "\n",
              "      let percentDone = fileData.byteLength === 0 ?\n",
              "          100 :\n",
              "          Math.round((position / fileData.byteLength) * 100);\n",
              "      percent.textContent = `${percentDone}% done`;\n",
              "\n",
              "    } while (position < fileData.byteLength);\n",
              "  }\n",
              "\n",
              "  // All done.\n",
              "  yield {\n",
              "    response: {\n",
              "      action: 'complete',\n",
              "    }\n",
              "  };\n",
              "}\n",
              "\n",
              "scope.google = scope.google || {};\n",
              "scope.google.colab = scope.google.colab || {};\n",
              "scope.google.colab._files = {\n",
              "  _uploadFiles,\n",
              "  _uploadFilesContinue,\n",
              "};\n",
              "})(self);\n",
              "</script> "
            ]
          },
          "metadata": {}
        },
        {
          "output_type": "stream",
          "name": "stdout",
          "text": [
            "Saving best_model.weights.h5 to best_model.weights.h5\n"
          ]
        }
      ],
      "source": [
        "from google.colab import files\n",
        "uploaded = files.upload()"
      ]
    },
    {
      "cell_type": "code",
      "source": [
        "import tensorflow as tf\n",
        "from tensorflow.keras import layers, models, regularizers\n",
        "import pandas as pd\n",
        "import transformers\n",
        "from tensorflow.keras.layers import Input, Dense, Lambda"
      ],
      "metadata": {
        "id": "4BmHouhIS9N7"
      },
      "execution_count": 2,
      "outputs": []
    },
    {
      "cell_type": "code",
      "source": [
        "df = pd.read_csv(\"colors1.csv\")\n",
        "df.head()"
      ],
      "metadata": {
        "colab": {
          "base_uri": "https://localhost:8080/",
          "height": 206
        },
        "id": "XGQNU2DRTAZR",
        "outputId": "d9d8f37b-9aa8-4154-ebcf-5ff4f28bc3a1"
      },
      "execution_count": 3,
      "outputs": [
        {
          "output_type": "execute_result",
          "data": {
            "text/plain": [
              "             name  red  green  blue\n",
              "0        parakeet  174    182    87\n",
              "1    saddle brown   88     52     1\n",
              "2  cucumber crush  222    237   215\n",
              "3       pool blue  134    194   201\n",
              "4        distance   98    110   130"
            ],
            "text/html": [
              "\n",
              "  <div id=\"df-d7353bd2-55dd-44e3-8c6d-f69f4e8e24e6\" class=\"colab-df-container\">\n",
              "    <div>\n",
              "<style scoped>\n",
              "    .dataframe tbody tr th:only-of-type {\n",
              "        vertical-align: middle;\n",
              "    }\n",
              "\n",
              "    .dataframe tbody tr th {\n",
              "        vertical-align: top;\n",
              "    }\n",
              "\n",
              "    .dataframe thead th {\n",
              "        text-align: right;\n",
              "    }\n",
              "</style>\n",
              "<table border=\"1\" class=\"dataframe\">\n",
              "  <thead>\n",
              "    <tr style=\"text-align: right;\">\n",
              "      <th></th>\n",
              "      <th>name</th>\n",
              "      <th>red</th>\n",
              "      <th>green</th>\n",
              "      <th>blue</th>\n",
              "    </tr>\n",
              "  </thead>\n",
              "  <tbody>\n",
              "    <tr>\n",
              "      <th>0</th>\n",
              "      <td>parakeet</td>\n",
              "      <td>174</td>\n",
              "      <td>182</td>\n",
              "      <td>87</td>\n",
              "    </tr>\n",
              "    <tr>\n",
              "      <th>1</th>\n",
              "      <td>saddle brown</td>\n",
              "      <td>88</td>\n",
              "      <td>52</td>\n",
              "      <td>1</td>\n",
              "    </tr>\n",
              "    <tr>\n",
              "      <th>2</th>\n",
              "      <td>cucumber crush</td>\n",
              "      <td>222</td>\n",
              "      <td>237</td>\n",
              "      <td>215</td>\n",
              "    </tr>\n",
              "    <tr>\n",
              "      <th>3</th>\n",
              "      <td>pool blue</td>\n",
              "      <td>134</td>\n",
              "      <td>194</td>\n",
              "      <td>201</td>\n",
              "    </tr>\n",
              "    <tr>\n",
              "      <th>4</th>\n",
              "      <td>distance</td>\n",
              "      <td>98</td>\n",
              "      <td>110</td>\n",
              "      <td>130</td>\n",
              "    </tr>\n",
              "  </tbody>\n",
              "</table>\n",
              "</div>\n",
              "    <div class=\"colab-df-buttons\">\n",
              "\n",
              "  <div class=\"colab-df-container\">\n",
              "    <button class=\"colab-df-convert\" onclick=\"convertToInteractive('df-d7353bd2-55dd-44e3-8c6d-f69f4e8e24e6')\"\n",
              "            title=\"Convert this dataframe to an interactive table.\"\n",
              "            style=\"display:none;\">\n",
              "\n",
              "  <svg xmlns=\"http://www.w3.org/2000/svg\" height=\"24px\" viewBox=\"0 -960 960 960\">\n",
              "    <path d=\"M120-120v-720h720v720H120Zm60-500h600v-160H180v160Zm220 220h160v-160H400v160Zm0 220h160v-160H400v160ZM180-400h160v-160H180v160Zm440 0h160v-160H620v160ZM180-180h160v-160H180v160Zm440 0h160v-160H620v160Z\"/>\n",
              "  </svg>\n",
              "    </button>\n",
              "\n",
              "  <style>\n",
              "    .colab-df-container {\n",
              "      display:flex;\n",
              "      gap: 12px;\n",
              "    }\n",
              "\n",
              "    .colab-df-convert {\n",
              "      background-color: #E8F0FE;\n",
              "      border: none;\n",
              "      border-radius: 50%;\n",
              "      cursor: pointer;\n",
              "      display: none;\n",
              "      fill: #1967D2;\n",
              "      height: 32px;\n",
              "      padding: 0 0 0 0;\n",
              "      width: 32px;\n",
              "    }\n",
              "\n",
              "    .colab-df-convert:hover {\n",
              "      background-color: #E2EBFA;\n",
              "      box-shadow: 0px 1px 2px rgba(60, 64, 67, 0.3), 0px 1px 3px 1px rgba(60, 64, 67, 0.15);\n",
              "      fill: #174EA6;\n",
              "    }\n",
              "\n",
              "    .colab-df-buttons div {\n",
              "      margin-bottom: 4px;\n",
              "    }\n",
              "\n",
              "    [theme=dark] .colab-df-convert {\n",
              "      background-color: #3B4455;\n",
              "      fill: #D2E3FC;\n",
              "    }\n",
              "\n",
              "    [theme=dark] .colab-df-convert:hover {\n",
              "      background-color: #434B5C;\n",
              "      box-shadow: 0px 1px 3px 1px rgba(0, 0, 0, 0.15);\n",
              "      filter: drop-shadow(0px 1px 2px rgba(0, 0, 0, 0.3));\n",
              "      fill: #FFFFFF;\n",
              "    }\n",
              "  </style>\n",
              "\n",
              "    <script>\n",
              "      const buttonEl =\n",
              "        document.querySelector('#df-d7353bd2-55dd-44e3-8c6d-f69f4e8e24e6 button.colab-df-convert');\n",
              "      buttonEl.style.display =\n",
              "        google.colab.kernel.accessAllowed ? 'block' : 'none';\n",
              "\n",
              "      async function convertToInteractive(key) {\n",
              "        const element = document.querySelector('#df-d7353bd2-55dd-44e3-8c6d-f69f4e8e24e6');\n",
              "        const dataTable =\n",
              "          await google.colab.kernel.invokeFunction('convertToInteractive',\n",
              "                                                    [key], {});\n",
              "        if (!dataTable) return;\n",
              "\n",
              "        const docLinkHtml = 'Like what you see? Visit the ' +\n",
              "          '<a target=\"_blank\" href=https://colab.research.google.com/notebooks/data_table.ipynb>data table notebook</a>'\n",
              "          + ' to learn more about interactive tables.';\n",
              "        element.innerHTML = '';\n",
              "        dataTable['output_type'] = 'display_data';\n",
              "        await google.colab.output.renderOutput(dataTable, element);\n",
              "        const docLink = document.createElement('div');\n",
              "        docLink.innerHTML = docLinkHtml;\n",
              "        element.appendChild(docLink);\n",
              "      }\n",
              "    </script>\n",
              "  </div>\n",
              "\n",
              "\n",
              "    <div id=\"df-22c967d1-fde9-4b02-85c4-58d4b21e4da0\">\n",
              "      <button class=\"colab-df-quickchart\" onclick=\"quickchart('df-22c967d1-fde9-4b02-85c4-58d4b21e4da0')\"\n",
              "                title=\"Suggest charts\"\n",
              "                style=\"display:none;\">\n",
              "\n",
              "<svg xmlns=\"http://www.w3.org/2000/svg\" height=\"24px\"viewBox=\"0 0 24 24\"\n",
              "     width=\"24px\">\n",
              "    <g>\n",
              "        <path d=\"M19 3H5c-1.1 0-2 .9-2 2v14c0 1.1.9 2 2 2h14c1.1 0 2-.9 2-2V5c0-1.1-.9-2-2-2zM9 17H7v-7h2v7zm4 0h-2V7h2v10zm4 0h-2v-4h2v4z\"/>\n",
              "    </g>\n",
              "</svg>\n",
              "      </button>\n",
              "\n",
              "<style>\n",
              "  .colab-df-quickchart {\n",
              "      --bg-color: #E8F0FE;\n",
              "      --fill-color: #1967D2;\n",
              "      --hover-bg-color: #E2EBFA;\n",
              "      --hover-fill-color: #174EA6;\n",
              "      --disabled-fill-color: #AAA;\n",
              "      --disabled-bg-color: #DDD;\n",
              "  }\n",
              "\n",
              "  [theme=dark] .colab-df-quickchart {\n",
              "      --bg-color: #3B4455;\n",
              "      --fill-color: #D2E3FC;\n",
              "      --hover-bg-color: #434B5C;\n",
              "      --hover-fill-color: #FFFFFF;\n",
              "      --disabled-bg-color: #3B4455;\n",
              "      --disabled-fill-color: #666;\n",
              "  }\n",
              "\n",
              "  .colab-df-quickchart {\n",
              "    background-color: var(--bg-color);\n",
              "    border: none;\n",
              "    border-radius: 50%;\n",
              "    cursor: pointer;\n",
              "    display: none;\n",
              "    fill: var(--fill-color);\n",
              "    height: 32px;\n",
              "    padding: 0;\n",
              "    width: 32px;\n",
              "  }\n",
              "\n",
              "  .colab-df-quickchart:hover {\n",
              "    background-color: var(--hover-bg-color);\n",
              "    box-shadow: 0 1px 2px rgba(60, 64, 67, 0.3), 0 1px 3px 1px rgba(60, 64, 67, 0.15);\n",
              "    fill: var(--button-hover-fill-color);\n",
              "  }\n",
              "\n",
              "  .colab-df-quickchart-complete:disabled,\n",
              "  .colab-df-quickchart-complete:disabled:hover {\n",
              "    background-color: var(--disabled-bg-color);\n",
              "    fill: var(--disabled-fill-color);\n",
              "    box-shadow: none;\n",
              "  }\n",
              "\n",
              "  .colab-df-spinner {\n",
              "    border: 2px solid var(--fill-color);\n",
              "    border-color: transparent;\n",
              "    border-bottom-color: var(--fill-color);\n",
              "    animation:\n",
              "      spin 1s steps(1) infinite;\n",
              "  }\n",
              "\n",
              "  @keyframes spin {\n",
              "    0% {\n",
              "      border-color: transparent;\n",
              "      border-bottom-color: var(--fill-color);\n",
              "      border-left-color: var(--fill-color);\n",
              "    }\n",
              "    20% {\n",
              "      border-color: transparent;\n",
              "      border-left-color: var(--fill-color);\n",
              "      border-top-color: var(--fill-color);\n",
              "    }\n",
              "    30% {\n",
              "      border-color: transparent;\n",
              "      border-left-color: var(--fill-color);\n",
              "      border-top-color: var(--fill-color);\n",
              "      border-right-color: var(--fill-color);\n",
              "    }\n",
              "    40% {\n",
              "      border-color: transparent;\n",
              "      border-right-color: var(--fill-color);\n",
              "      border-top-color: var(--fill-color);\n",
              "    }\n",
              "    60% {\n",
              "      border-color: transparent;\n",
              "      border-right-color: var(--fill-color);\n",
              "    }\n",
              "    80% {\n",
              "      border-color: transparent;\n",
              "      border-right-color: var(--fill-color);\n",
              "      border-bottom-color: var(--fill-color);\n",
              "    }\n",
              "    90% {\n",
              "      border-color: transparent;\n",
              "      border-bottom-color: var(--fill-color);\n",
              "    }\n",
              "  }\n",
              "</style>\n",
              "\n",
              "      <script>\n",
              "        async function quickchart(key) {\n",
              "          const quickchartButtonEl =\n",
              "            document.querySelector('#' + key + ' button');\n",
              "          quickchartButtonEl.disabled = true;  // To prevent multiple clicks.\n",
              "          quickchartButtonEl.classList.add('colab-df-spinner');\n",
              "          try {\n",
              "            const charts = await google.colab.kernel.invokeFunction(\n",
              "                'suggestCharts', [key], {});\n",
              "          } catch (error) {\n",
              "            console.error('Error during call to suggestCharts:', error);\n",
              "          }\n",
              "          quickchartButtonEl.classList.remove('colab-df-spinner');\n",
              "          quickchartButtonEl.classList.add('colab-df-quickchart-complete');\n",
              "        }\n",
              "        (() => {\n",
              "          let quickchartButtonEl =\n",
              "            document.querySelector('#df-22c967d1-fde9-4b02-85c4-58d4b21e4da0 button');\n",
              "          quickchartButtonEl.style.display =\n",
              "            google.colab.kernel.accessAllowed ? 'block' : 'none';\n",
              "        })();\n",
              "      </script>\n",
              "    </div>\n",
              "\n",
              "    </div>\n",
              "  </div>\n"
            ],
            "application/vnd.google.colaboratory.intrinsic+json": {
              "type": "dataframe",
              "variable_name": "df",
              "summary": "{\n  \"name\": \"df\",\n  \"rows\": 14357,\n  \"fields\": [\n    {\n      \"column\": \"name\",\n      \"properties\": {\n        \"dtype\": \"string\",\n        \"num_unique_values\": 12513,\n        \"samples\": [\n          \"Dew Drop\",\n          \"country club\",\n          \"aged bronze\"\n        ],\n        \"semantic_type\": \"\",\n        \"description\": \"\"\n      }\n    },\n    {\n      \"column\": \"red\",\n      \"properties\": {\n        \"dtype\": \"number\",\n        \"std\": 67,\n        \"min\": 0,\n        \"max\": 255,\n        \"num_unique_values\": 256,\n        \"samples\": [\n          20,\n          172,\n          59\n        ],\n        \"semantic_type\": \"\",\n        \"description\": \"\"\n      }\n    },\n    {\n      \"column\": \"green\",\n      \"properties\": {\n        \"dtype\": \"number\",\n        \"std\": 62,\n        \"min\": 0,\n        \"max\": 255,\n        \"num_unique_values\": 256,\n        \"samples\": [\n          44,\n          145,\n          126\n        ],\n        \"semantic_type\": \"\",\n        \"description\": \"\"\n      }\n    },\n    {\n      \"column\": \"blue\",\n      \"properties\": {\n        \"dtype\": \"number\",\n        \"std\": 64,\n        \"min\": 0,\n        \"max\": 255,\n        \"num_unique_values\": 256,\n        \"samples\": [\n          14,\n          206,\n          166\n        ],\n        \"semantic_type\": \"\",\n        \"description\": \"\"\n      }\n    }\n  ]\n}"
            }
          },
          "metadata": {},
          "execution_count": 3
        }
      ]
    },
    {
      "cell_type": "code",
      "source": [
        "df[\"red\"] = df[\"red\"] / 255\n",
        "df[\"green\"] = df[\"green\"] / 255\n",
        "df[\"blue\"] = df[\"blue\"] / 255\n",
        "df.head()"
      ],
      "metadata": {
        "colab": {
          "base_uri": "https://localhost:8080/",
          "height": 206
        },
        "id": "2IA7aI3PTDS0",
        "outputId": "b1d37640-d076-4af6-87b0-70c9f9a8e36f"
      },
      "execution_count": 4,
      "outputs": [
        {
          "output_type": "execute_result",
          "data": {
            "text/plain": [
              "             name       red     green      blue\n",
              "0        parakeet  0.682353  0.713725  0.341176\n",
              "1    saddle brown  0.345098  0.203922  0.003922\n",
              "2  cucumber crush  0.870588  0.929412  0.843137\n",
              "3       pool blue  0.525490  0.760784  0.788235\n",
              "4        distance  0.384314  0.431373  0.509804"
            ],
            "text/html": [
              "\n",
              "  <div id=\"df-752290eb-b54f-447e-b1d4-befb9ff61676\" class=\"colab-df-container\">\n",
              "    <div>\n",
              "<style scoped>\n",
              "    .dataframe tbody tr th:only-of-type {\n",
              "        vertical-align: middle;\n",
              "    }\n",
              "\n",
              "    .dataframe tbody tr th {\n",
              "        vertical-align: top;\n",
              "    }\n",
              "\n",
              "    .dataframe thead th {\n",
              "        text-align: right;\n",
              "    }\n",
              "</style>\n",
              "<table border=\"1\" class=\"dataframe\">\n",
              "  <thead>\n",
              "    <tr style=\"text-align: right;\">\n",
              "      <th></th>\n",
              "      <th>name</th>\n",
              "      <th>red</th>\n",
              "      <th>green</th>\n",
              "      <th>blue</th>\n",
              "    </tr>\n",
              "  </thead>\n",
              "  <tbody>\n",
              "    <tr>\n",
              "      <th>0</th>\n",
              "      <td>parakeet</td>\n",
              "      <td>0.682353</td>\n",
              "      <td>0.713725</td>\n",
              "      <td>0.341176</td>\n",
              "    </tr>\n",
              "    <tr>\n",
              "      <th>1</th>\n",
              "      <td>saddle brown</td>\n",
              "      <td>0.345098</td>\n",
              "      <td>0.203922</td>\n",
              "      <td>0.003922</td>\n",
              "    </tr>\n",
              "    <tr>\n",
              "      <th>2</th>\n",
              "      <td>cucumber crush</td>\n",
              "      <td>0.870588</td>\n",
              "      <td>0.929412</td>\n",
              "      <td>0.843137</td>\n",
              "    </tr>\n",
              "    <tr>\n",
              "      <th>3</th>\n",
              "      <td>pool blue</td>\n",
              "      <td>0.525490</td>\n",
              "      <td>0.760784</td>\n",
              "      <td>0.788235</td>\n",
              "    </tr>\n",
              "    <tr>\n",
              "      <th>4</th>\n",
              "      <td>distance</td>\n",
              "      <td>0.384314</td>\n",
              "      <td>0.431373</td>\n",
              "      <td>0.509804</td>\n",
              "    </tr>\n",
              "  </tbody>\n",
              "</table>\n",
              "</div>\n",
              "    <div class=\"colab-df-buttons\">\n",
              "\n",
              "  <div class=\"colab-df-container\">\n",
              "    <button class=\"colab-df-convert\" onclick=\"convertToInteractive('df-752290eb-b54f-447e-b1d4-befb9ff61676')\"\n",
              "            title=\"Convert this dataframe to an interactive table.\"\n",
              "            style=\"display:none;\">\n",
              "\n",
              "  <svg xmlns=\"http://www.w3.org/2000/svg\" height=\"24px\" viewBox=\"0 -960 960 960\">\n",
              "    <path d=\"M120-120v-720h720v720H120Zm60-500h600v-160H180v160Zm220 220h160v-160H400v160Zm0 220h160v-160H400v160ZM180-400h160v-160H180v160Zm440 0h160v-160H620v160ZM180-180h160v-160H180v160Zm440 0h160v-160H620v160Z\"/>\n",
              "  </svg>\n",
              "    </button>\n",
              "\n",
              "  <style>\n",
              "    .colab-df-container {\n",
              "      display:flex;\n",
              "      gap: 12px;\n",
              "    }\n",
              "\n",
              "    .colab-df-convert {\n",
              "      background-color: #E8F0FE;\n",
              "      border: none;\n",
              "      border-radius: 50%;\n",
              "      cursor: pointer;\n",
              "      display: none;\n",
              "      fill: #1967D2;\n",
              "      height: 32px;\n",
              "      padding: 0 0 0 0;\n",
              "      width: 32px;\n",
              "    }\n",
              "\n",
              "    .colab-df-convert:hover {\n",
              "      background-color: #E2EBFA;\n",
              "      box-shadow: 0px 1px 2px rgba(60, 64, 67, 0.3), 0px 1px 3px 1px rgba(60, 64, 67, 0.15);\n",
              "      fill: #174EA6;\n",
              "    }\n",
              "\n",
              "    .colab-df-buttons div {\n",
              "      margin-bottom: 4px;\n",
              "    }\n",
              "\n",
              "    [theme=dark] .colab-df-convert {\n",
              "      background-color: #3B4455;\n",
              "      fill: #D2E3FC;\n",
              "    }\n",
              "\n",
              "    [theme=dark] .colab-df-convert:hover {\n",
              "      background-color: #434B5C;\n",
              "      box-shadow: 0px 1px 3px 1px rgba(0, 0, 0, 0.15);\n",
              "      filter: drop-shadow(0px 1px 2px rgba(0, 0, 0, 0.3));\n",
              "      fill: #FFFFFF;\n",
              "    }\n",
              "  </style>\n",
              "\n",
              "    <script>\n",
              "      const buttonEl =\n",
              "        document.querySelector('#df-752290eb-b54f-447e-b1d4-befb9ff61676 button.colab-df-convert');\n",
              "      buttonEl.style.display =\n",
              "        google.colab.kernel.accessAllowed ? 'block' : 'none';\n",
              "\n",
              "      async function convertToInteractive(key) {\n",
              "        const element = document.querySelector('#df-752290eb-b54f-447e-b1d4-befb9ff61676');\n",
              "        const dataTable =\n",
              "          await google.colab.kernel.invokeFunction('convertToInteractive',\n",
              "                                                    [key], {});\n",
              "        if (!dataTable) return;\n",
              "\n",
              "        const docLinkHtml = 'Like what you see? Visit the ' +\n",
              "          '<a target=\"_blank\" href=https://colab.research.google.com/notebooks/data_table.ipynb>data table notebook</a>'\n",
              "          + ' to learn more about interactive tables.';\n",
              "        element.innerHTML = '';\n",
              "        dataTable['output_type'] = 'display_data';\n",
              "        await google.colab.output.renderOutput(dataTable, element);\n",
              "        const docLink = document.createElement('div');\n",
              "        docLink.innerHTML = docLinkHtml;\n",
              "        element.appendChild(docLink);\n",
              "      }\n",
              "    </script>\n",
              "  </div>\n",
              "\n",
              "\n",
              "    <div id=\"df-b0ffa73d-945c-484a-9afa-3cf1bd2a7044\">\n",
              "      <button class=\"colab-df-quickchart\" onclick=\"quickchart('df-b0ffa73d-945c-484a-9afa-3cf1bd2a7044')\"\n",
              "                title=\"Suggest charts\"\n",
              "                style=\"display:none;\">\n",
              "\n",
              "<svg xmlns=\"http://www.w3.org/2000/svg\" height=\"24px\"viewBox=\"0 0 24 24\"\n",
              "     width=\"24px\">\n",
              "    <g>\n",
              "        <path d=\"M19 3H5c-1.1 0-2 .9-2 2v14c0 1.1.9 2 2 2h14c1.1 0 2-.9 2-2V5c0-1.1-.9-2-2-2zM9 17H7v-7h2v7zm4 0h-2V7h2v10zm4 0h-2v-4h2v4z\"/>\n",
              "    </g>\n",
              "</svg>\n",
              "      </button>\n",
              "\n",
              "<style>\n",
              "  .colab-df-quickchart {\n",
              "      --bg-color: #E8F0FE;\n",
              "      --fill-color: #1967D2;\n",
              "      --hover-bg-color: #E2EBFA;\n",
              "      --hover-fill-color: #174EA6;\n",
              "      --disabled-fill-color: #AAA;\n",
              "      --disabled-bg-color: #DDD;\n",
              "  }\n",
              "\n",
              "  [theme=dark] .colab-df-quickchart {\n",
              "      --bg-color: #3B4455;\n",
              "      --fill-color: #D2E3FC;\n",
              "      --hover-bg-color: #434B5C;\n",
              "      --hover-fill-color: #FFFFFF;\n",
              "      --disabled-bg-color: #3B4455;\n",
              "      --disabled-fill-color: #666;\n",
              "  }\n",
              "\n",
              "  .colab-df-quickchart {\n",
              "    background-color: var(--bg-color);\n",
              "    border: none;\n",
              "    border-radius: 50%;\n",
              "    cursor: pointer;\n",
              "    display: none;\n",
              "    fill: var(--fill-color);\n",
              "    height: 32px;\n",
              "    padding: 0;\n",
              "    width: 32px;\n",
              "  }\n",
              "\n",
              "  .colab-df-quickchart:hover {\n",
              "    background-color: var(--hover-bg-color);\n",
              "    box-shadow: 0 1px 2px rgba(60, 64, 67, 0.3), 0 1px 3px 1px rgba(60, 64, 67, 0.15);\n",
              "    fill: var(--button-hover-fill-color);\n",
              "  }\n",
              "\n",
              "  .colab-df-quickchart-complete:disabled,\n",
              "  .colab-df-quickchart-complete:disabled:hover {\n",
              "    background-color: var(--disabled-bg-color);\n",
              "    fill: var(--disabled-fill-color);\n",
              "    box-shadow: none;\n",
              "  }\n",
              "\n",
              "  .colab-df-spinner {\n",
              "    border: 2px solid var(--fill-color);\n",
              "    border-color: transparent;\n",
              "    border-bottom-color: var(--fill-color);\n",
              "    animation:\n",
              "      spin 1s steps(1) infinite;\n",
              "  }\n",
              "\n",
              "  @keyframes spin {\n",
              "    0% {\n",
              "      border-color: transparent;\n",
              "      border-bottom-color: var(--fill-color);\n",
              "      border-left-color: var(--fill-color);\n",
              "    }\n",
              "    20% {\n",
              "      border-color: transparent;\n",
              "      border-left-color: var(--fill-color);\n",
              "      border-top-color: var(--fill-color);\n",
              "    }\n",
              "    30% {\n",
              "      border-color: transparent;\n",
              "      border-left-color: var(--fill-color);\n",
              "      border-top-color: var(--fill-color);\n",
              "      border-right-color: var(--fill-color);\n",
              "    }\n",
              "    40% {\n",
              "      border-color: transparent;\n",
              "      border-right-color: var(--fill-color);\n",
              "      border-top-color: var(--fill-color);\n",
              "    }\n",
              "    60% {\n",
              "      border-color: transparent;\n",
              "      border-right-color: var(--fill-color);\n",
              "    }\n",
              "    80% {\n",
              "      border-color: transparent;\n",
              "      border-right-color: var(--fill-color);\n",
              "      border-bottom-color: var(--fill-color);\n",
              "    }\n",
              "    90% {\n",
              "      border-color: transparent;\n",
              "      border-bottom-color: var(--fill-color);\n",
              "    }\n",
              "  }\n",
              "</style>\n",
              "\n",
              "      <script>\n",
              "        async function quickchart(key) {\n",
              "          const quickchartButtonEl =\n",
              "            document.querySelector('#' + key + ' button');\n",
              "          quickchartButtonEl.disabled = true;  // To prevent multiple clicks.\n",
              "          quickchartButtonEl.classList.add('colab-df-spinner');\n",
              "          try {\n",
              "            const charts = await google.colab.kernel.invokeFunction(\n",
              "                'suggestCharts', [key], {});\n",
              "          } catch (error) {\n",
              "            console.error('Error during call to suggestCharts:', error);\n",
              "          }\n",
              "          quickchartButtonEl.classList.remove('colab-df-spinner');\n",
              "          quickchartButtonEl.classList.add('colab-df-quickchart-complete');\n",
              "        }\n",
              "        (() => {\n",
              "          let quickchartButtonEl =\n",
              "            document.querySelector('#df-b0ffa73d-945c-484a-9afa-3cf1bd2a7044 button');\n",
              "          quickchartButtonEl.style.display =\n",
              "            google.colab.kernel.accessAllowed ? 'block' : 'none';\n",
              "        })();\n",
              "      </script>\n",
              "    </div>\n",
              "\n",
              "    </div>\n",
              "  </div>\n"
            ],
            "application/vnd.google.colaboratory.intrinsic+json": {
              "type": "dataframe",
              "variable_name": "df",
              "summary": "{\n  \"name\": \"df\",\n  \"rows\": 14357,\n  \"fields\": [\n    {\n      \"column\": \"name\",\n      \"properties\": {\n        \"dtype\": \"string\",\n        \"num_unique_values\": 12513,\n        \"samples\": [\n          \"Dew Drop\",\n          \"country club\",\n          \"aged bronze\"\n        ],\n        \"semantic_type\": \"\",\n        \"description\": \"\"\n      }\n    },\n    {\n      \"column\": \"red\",\n      \"properties\": {\n        \"dtype\": \"number\",\n        \"std\": 0.2642516787091098,\n        \"min\": 0.0,\n        \"max\": 1.0,\n        \"num_unique_values\": 256,\n        \"samples\": [\n          0.0784313725490196,\n          0.6745098039215687,\n          0.23137254901960785\n        ],\n        \"semantic_type\": \"\",\n        \"description\": \"\"\n      }\n    },\n    {\n      \"column\": \"green\",\n      \"properties\": {\n        \"dtype\": \"number\",\n        \"std\": 0.2462764163066505,\n        \"min\": 0.0,\n        \"max\": 1.0,\n        \"num_unique_values\": 256,\n        \"samples\": [\n          0.17254901960784313,\n          0.5686274509803921,\n          0.49411764705882355\n        ],\n        \"semantic_type\": \"\",\n        \"description\": \"\"\n      }\n    },\n    {\n      \"column\": \"blue\",\n      \"properties\": {\n        \"dtype\": \"number\",\n        \"std\": 0.2540162608297004,\n        \"min\": 0.0,\n        \"max\": 1.0,\n        \"num_unique_values\": 256,\n        \"samples\": [\n          0.054901960784313725,\n          0.807843137254902,\n          0.6509803921568628\n        ],\n        \"semantic_type\": \"\",\n        \"description\": \"\"\n      }\n    }\n  ]\n}"
            }
          },
          "metadata": {},
          "execution_count": 4
        }
      ]
    },
    {
      "cell_type": "code",
      "source": [
        "X_texts = df['name'].astype(str).values\n",
        "y_rgb = df[['red', 'green', 'blue']].values"
      ],
      "metadata": {
        "id": "C4QU0V4zTD7u"
      },
      "execution_count": 5,
      "outputs": []
    },
    {
      "cell_type": "code",
      "source": [
        "from sklearn.model_selection import train_test_split"
      ],
      "metadata": {
        "id": "bzsvlDpWTGhr"
      },
      "execution_count": 6,
      "outputs": []
    },
    {
      "cell_type": "code",
      "source": [
        "# Tách train/val\n",
        "X_train, X_val, y_train, y_val = train_test_split(\n",
        "    X_texts, y_rgb, test_size=0.2, shuffle = True, random_state=42\n",
        ")"
      ],
      "metadata": {
        "id": "yQ4XmtrOTY2Q"
      },
      "execution_count": 7,
      "outputs": []
    },
    {
      "cell_type": "code",
      "source": [
        "from transformers import AutoTokenizer\n",
        "tokenizer = AutoTokenizer.from_pretrained(\"prajjwal1/bert-tiny\")\n",
        "def tokenize_text(texts):\n",
        "    texts = list(texts)\n",
        "    encodings = tokenizer(texts, padding=True, truncation=True, return_tensors=\"tf\")\n",
        "    return {\n",
        "        \"input_ids\": encodings[\"input_ids\"],\n",
        "        \"attention_mask\": encodings[\"attention_mask\"],\n",
        "        \"token_type_ids\": encodings[\"token_type_ids\"]\n",
        "    }"
      ],
      "metadata": {
        "id": "AYwl9MTLVDCq"
      },
      "execution_count": 13,
      "outputs": []
    },
    {
      "cell_type": "code",
      "source": [
        "from transformers import TFAutoModel\n",
        "def create_bert_to_rgb_model():\n",
        "    bert = TFAutoModel.from_pretrained('prajjwal1/bert-tiny', from_pt=True)\n",
        "    # for layer in bert.layers:\n",
        "    #     layer.trainable = False  # freeze toàn bộ BERT\n",
        "\n",
        "    bert.trainable = False\n",
        "\n",
        "    input_ids = tf.keras.Input(shape=(None,), dtype=tf.int32, name=\"input_ids\")\n",
        "    attention_mask = tf.keras.Input(shape=(None,), dtype=tf.int32, name=\"attention_mask\")\n",
        "\n",
        "    # Combined Lambda layer that does both BERT call and CLS extraction\n",
        "    cls_token = tf.keras.layers.Lambda(\n",
        "        lambda x: bert(input_ids=x[0], attention_mask=x[1]).last_hidden_state[:, 0, :],\n",
        "        output_shape=(128,)\n",
        "    )([input_ids, attention_mask])\n",
        "\n",
        "    # Chỉ train lớp này\n",
        "    x = tf.keras.layers.Dense(128, activation=\"relu\")(cls_token)\n",
        "    x = tf.keras.layers.Dense(3, activation=\"sigmoid\")(x)  # sigmoid vì RGB chuẩn hóa [0, 1]\n",
        "\n",
        "    model = tf.keras.Model(inputs=[input_ids, attention_mask], outputs=x)\n",
        "    return model"
      ],
      "metadata": {
        "id": "aA9tbYTdVUU1"
      },
      "execution_count": 17,
      "outputs": []
    },
    {
      "cell_type": "code",
      "source": [
        "model = create_bert_to_rgb_model()"
      ],
      "metadata": {
        "colab": {
          "base_uri": "https://localhost:8080/",
          "height": 156,
          "referenced_widgets": [
            "a7b9c3c0f381453199fbbfdd6977302b",
            "ac7c0b63c9b940ec9fa316c08e7cb502",
            "fc553fc64acf47a6a4da651cf0b0f48c",
            "28a11430ef6d40ce8f40827e35bad0d3",
            "eed4dcecbe674fccada46a3980fb2e01",
            "c0917876d555483e9226685ae57e925e",
            "a058802130a04406bb6d3819d8956ca1",
            "ad2568caa0aa41d686e61c14bad2fdb7",
            "9f7ba91cfb7c4e9e8067c45f4d15a414",
            "c304e0a8813844048e7de5db17b80550",
            "73e4e2d19273491b8b7d5826b4d9d63e"
          ]
        },
        "id": "YxqolNWfVtZa",
        "outputId": "2baf192c-abe3-4f00-e95e-1c22036548a9"
      },
      "execution_count": 18,
      "outputs": [
        {
          "output_type": "display_data",
          "data": {
            "text/plain": [
              "pytorch_model.bin:   0%|          | 0.00/17.8M [00:00<?, ?B/s]"
            ],
            "application/vnd.jupyter.widget-view+json": {
              "version_major": 2,
              "version_minor": 0,
              "model_id": "a7b9c3c0f381453199fbbfdd6977302b"
            }
          },
          "metadata": {}
        },
        {
          "output_type": "stream",
          "name": "stderr",
          "text": [
            "Some weights of the PyTorch model were not used when initializing the TF 2.0 model TFBertModel: ['bert.embeddings.position_ids', 'cls.predictions.transform.LayerNorm.weight', 'cls.predictions.transform.LayerNorm.bias', 'cls.seq_relationship.weight', 'cls.predictions.decoder.bias', 'cls.seq_relationship.bias', 'cls.predictions.transform.dense.weight', 'cls.predictions.bias', 'cls.predictions.transform.dense.bias', 'cls.predictions.decoder.weight']\n",
            "- This IS expected if you are initializing TFBertModel from a PyTorch model trained on another task or with another architecture (e.g. initializing a TFBertForSequenceClassification model from a BertForPreTraining model).\n",
            "- This IS NOT expected if you are initializing TFBertModel from a PyTorch model that you expect to be exactly identical (e.g. initializing a TFBertForSequenceClassification model from a BertForSequenceClassification model).\n",
            "All the weights of TFBertModel were initialized from the PyTorch model.\n",
            "If your task is similar to the task the model of the checkpoint was trained on, you can already use TFBertModel for predictions without further training.\n"
          ]
        }
      ]
    },
    {
      "cell_type": "code",
      "source": [
        "train_tokens = tokenize_text(X_train)\n",
        "val_tokens = tokenize_text(X_val)"
      ],
      "metadata": {
        "colab": {
          "base_uri": "https://localhost:8080/"
        },
        "id": "NS4EMNmxWxPb",
        "outputId": "b787596b-e17f-44d6-df66-e097d897ffdc"
      },
      "execution_count": 19,
      "outputs": [
        {
          "output_type": "stream",
          "name": "stderr",
          "text": [
            "Asking to truncate to max_length but no maximum length is provided and the model has no predefined maximum length. Default to no truncation.\n"
          ]
        }
      ]
    },
    {
      "cell_type": "code",
      "source": [
        "model.compile(\n",
        "    optimizer=tf.keras.optimizers.Adam(learning_rate=1e-4),\n",
        "    loss=\"mse\",\n",
        "    metrics=[\"mae\"]\n",
        ")"
      ],
      "metadata": {
        "id": "r1odwnOXWyyj"
      },
      "execution_count": 20,
      "outputs": []
    },
    {
      "cell_type": "code",
      "source": [
        "from tensorflow.keras.callbacks import ModelCheckpoint\n",
        "\n",
        "checkpoint = ModelCheckpoint(\n",
        "    'best_model_bert_tiny.weights.h5',  # Must end with .weights.h5\n",
        "    monitor='val_loss',\n",
        "    save_best_only=True,\n",
        "    save_weights_only=True,\n",
        "    mode='min',\n",
        "    verbose=1\n",
        ")\n"
      ],
      "metadata": {
        "id": "AKIFDYO7W2yT"
      },
      "execution_count": 22,
      "outputs": []
    },
    {
      "cell_type": "code",
      "source": [
        "from tensorflow.keras.callbacks import ReduceLROnPlateau\n",
        "\n",
        "# Khởi tạo callback\n",
        "reduce_lr = ReduceLROnPlateau(\n",
        "    monitor='val_loss',      # theo dõi val_loss (có thể là 'val_accuracy' tùy bài toán)\n",
        "    factor=0.5,              # mỗi lần giảm thì LR = LR * factor\n",
        "    patience=5,              # nếu sau 5 epoch val_loss không cải thiện thì giảm LR\n",
        "    min_lr=1e-6,             # learning rate nhỏ nhất có thể giảm tới\n",
        "    verbose=1                # in log khi learning rate thay đổi\n",
        ")"
      ],
      "metadata": {
        "id": "aaXCJuiNW94-"
      },
      "execution_count": 23,
      "outputs": []
    },
    {
      "cell_type": "code",
      "source": [
        "history = model.fit(\n",
        "    train_tokens,\n",
        "    y_train,\n",
        "    validation_data=(val_tokens, y_val),\n",
        "    epochs=100,\n",
        "    batch_size=16,\n",
        "    shuffle = True,\n",
        "    callbacks=[\n",
        "        checkpoint, reduce_lr, tf.keras.callbacks.EarlyStopping(patience=5, restore_best_weights=True)\n",
        "    ]\n",
        ")\n"
      ],
      "metadata": {
        "colab": {
          "base_uri": "https://localhost:8080/"
        },
        "id": "SB4LMbLXW_-0",
        "outputId": "3c09e5b0-3a7e-46a4-e5da-5d874bdb6425"
      },
      "execution_count": 24,
      "outputs": [
        {
          "output_type": "stream",
          "name": "stdout",
          "text": [
            "Epoch 1/100\n",
            "\u001b[1m718/718\u001b[0m \u001b[32m━━━━━━━━━━━━━━━━━━━━\u001b[0m\u001b[37m\u001b[0m \u001b[1m0s\u001b[0m 5ms/step - loss: 0.0702 - mae: 0.2181\n",
            "Epoch 1: val_loss improved from inf to 0.06004, saving model to best_model_bert_tiny.weights.h5\n",
            "\u001b[1m718/718\u001b[0m \u001b[32m━━━━━━━━━━━━━━━━━━━━\u001b[0m\u001b[37m\u001b[0m \u001b[1m10s\u001b[0m 9ms/step - loss: 0.0702 - mae: 0.2180 - val_loss: 0.0600 - val_mae: 0.2049 - learning_rate: 1.0000e-04\n",
            "Epoch 2/100\n",
            "\u001b[1m701/718\u001b[0m \u001b[32m━━━━━━━━━━━━━━━━━━━\u001b[0m\u001b[37m━\u001b[0m \u001b[1m0s\u001b[0m 2ms/step - loss: 0.0602 - mae: 0.2045\n",
            "Epoch 2: val_loss improved from 0.06004 to 0.05787, saving model to best_model_bert_tiny.weights.h5\n",
            "\u001b[1m718/718\u001b[0m \u001b[32m━━━━━━━━━━━━━━━━━━━━\u001b[0m\u001b[37m\u001b[0m \u001b[1m2s\u001b[0m 3ms/step - loss: 0.0602 - mae: 0.2045 - val_loss: 0.0579 - val_mae: 0.2011 - learning_rate: 1.0000e-04\n",
            "Epoch 3/100\n",
            "\u001b[1m717/718\u001b[0m \u001b[32m━━━━━━━━━━━━━━━━━━━\u001b[0m\u001b[37m━\u001b[0m \u001b[1m0s\u001b[0m 3ms/step - loss: 0.0588 - mae: 0.2014\n",
            "Epoch 3: val_loss improved from 0.05787 to 0.05658, saving model to best_model_bert_tiny.weights.h5\n",
            "\u001b[1m718/718\u001b[0m \u001b[32m━━━━━━━━━━━━━━━━━━━━\u001b[0m\u001b[37m\u001b[0m \u001b[1m2s\u001b[0m 3ms/step - loss: 0.0588 - mae: 0.2014 - val_loss: 0.0566 - val_mae: 0.1985 - learning_rate: 1.0000e-04\n",
            "Epoch 4/100\n",
            "\u001b[1m704/718\u001b[0m \u001b[32m━━━━━━━━━━━━━━━━━━━\u001b[0m\u001b[37m━\u001b[0m \u001b[1m0s\u001b[0m 2ms/step - loss: 0.0572 - mae: 0.1992\n",
            "Epoch 4: val_loss improved from 0.05658 to 0.05614, saving model to best_model_bert_tiny.weights.h5\n",
            "\u001b[1m718/718\u001b[0m \u001b[32m━━━━━━━━━━━━━━━━━━━━\u001b[0m\u001b[37m\u001b[0m \u001b[1m3s\u001b[0m 3ms/step - loss: 0.0572 - mae: 0.1992 - val_loss: 0.0561 - val_mae: 0.1964 - learning_rate: 1.0000e-04\n",
            "Epoch 5/100\n",
            "\u001b[1m706/718\u001b[0m \u001b[32m━━━━━━━━━━━━━━━━━━━\u001b[0m\u001b[37m━\u001b[0m \u001b[1m0s\u001b[0m 3ms/step - loss: 0.0567 - mae: 0.1982\n",
            "Epoch 5: val_loss improved from 0.05614 to 0.05513, saving model to best_model_bert_tiny.weights.h5\n",
            "\u001b[1m718/718\u001b[0m \u001b[32m━━━━━━━━━━━━━━━━━━━━\u001b[0m\u001b[37m\u001b[0m \u001b[1m3s\u001b[0m 4ms/step - loss: 0.0567 - mae: 0.1982 - val_loss: 0.0551 - val_mae: 0.1955 - learning_rate: 1.0000e-04\n",
            "Epoch 6/100\n",
            "\u001b[1m705/718\u001b[0m \u001b[32m━━━━━━━━━━━━━━━━━━━\u001b[0m\u001b[37m━\u001b[0m \u001b[1m0s\u001b[0m 2ms/step - loss: 0.0545 - mae: 0.1944\n",
            "Epoch 6: val_loss did not improve from 0.05513\n",
            "\u001b[1m718/718\u001b[0m \u001b[32m━━━━━━━━━━━━━━━━━━━━\u001b[0m\u001b[37m\u001b[0m \u001b[1m4s\u001b[0m 3ms/step - loss: 0.0545 - mae: 0.1945 - val_loss: 0.0558 - val_mae: 0.1985 - learning_rate: 1.0000e-04\n",
            "Epoch 7/100\n",
            "\u001b[1m713/718\u001b[0m \u001b[32m━━━━━━━━━━━━━━━━━━━\u001b[0m\u001b[37m━\u001b[0m \u001b[1m0s\u001b[0m 2ms/step - loss: 0.0549 - mae: 0.1952\n",
            "Epoch 7: val_loss improved from 0.05513 to 0.05430, saving model to best_model_bert_tiny.weights.h5\n",
            "\u001b[1m718/718\u001b[0m \u001b[32m━━━━━━━━━━━━━━━━━━━━\u001b[0m\u001b[37m\u001b[0m \u001b[1m2s\u001b[0m 3ms/step - loss: 0.0549 - mae: 0.1952 - val_loss: 0.0543 - val_mae: 0.1953 - learning_rate: 1.0000e-04\n",
            "Epoch 8/100\n",
            "\u001b[1m712/718\u001b[0m \u001b[32m━━━━━━━━━━━━━━━━━━━\u001b[0m\u001b[37m━\u001b[0m \u001b[1m0s\u001b[0m 2ms/step - loss: 0.0548 - mae: 0.1944\n",
            "Epoch 8: val_loss improved from 0.05430 to 0.05369, saving model to best_model_bert_tiny.weights.h5\n",
            "\u001b[1m718/718\u001b[0m \u001b[32m━━━━━━━━━━━━━━━━━━━━\u001b[0m\u001b[37m\u001b[0m \u001b[1m2s\u001b[0m 3ms/step - loss: 0.0548 - mae: 0.1944 - val_loss: 0.0537 - val_mae: 0.1932 - learning_rate: 1.0000e-04\n",
            "Epoch 9/100\n",
            "\u001b[1m712/718\u001b[0m \u001b[32m━━━━━━━━━━━━━━━━━━━\u001b[0m\u001b[37m━\u001b[0m \u001b[1m0s\u001b[0m 3ms/step - loss: 0.0532 - mae: 0.1913\n",
            "Epoch 9: val_loss did not improve from 0.05369\n",
            "\u001b[1m718/718\u001b[0m \u001b[32m━━━━━━━━━━━━━━━━━━━━\u001b[0m\u001b[37m\u001b[0m \u001b[1m3s\u001b[0m 4ms/step - loss: 0.0532 - mae: 0.1913 - val_loss: 0.0538 - val_mae: 0.1941 - learning_rate: 1.0000e-04\n",
            "Epoch 10/100\n",
            "\u001b[1m717/718\u001b[0m \u001b[32m━━━━━━━━━━━━━━━━━━━\u001b[0m\u001b[37m━\u001b[0m \u001b[1m0s\u001b[0m 2ms/step - loss: 0.0528 - mae: 0.1911\n",
            "Epoch 10: val_loss improved from 0.05369 to 0.05311, saving model to best_model_bert_tiny.weights.h5\n",
            "\u001b[1m718/718\u001b[0m \u001b[32m━━━━━━━━━━━━━━━━━━━━\u001b[0m\u001b[37m\u001b[0m \u001b[1m2s\u001b[0m 3ms/step - loss: 0.0528 - mae: 0.1911 - val_loss: 0.0531 - val_mae: 0.1921 - learning_rate: 1.0000e-04\n",
            "Epoch 11/100\n",
            "\u001b[1m711/718\u001b[0m \u001b[32m━━━━━━━━━━━━━━━━━━━\u001b[0m\u001b[37m━\u001b[0m \u001b[1m0s\u001b[0m 3ms/step - loss: 0.0528 - mae: 0.1906\n",
            "Epoch 11: val_loss improved from 0.05311 to 0.05285, saving model to best_model_bert_tiny.weights.h5\n",
            "\u001b[1m718/718\u001b[0m \u001b[32m━━━━━━━━━━━━━━━━━━━━\u001b[0m\u001b[37m\u001b[0m \u001b[1m2s\u001b[0m 3ms/step - loss: 0.0528 - mae: 0.1906 - val_loss: 0.0528 - val_mae: 0.1897 - learning_rate: 1.0000e-04\n",
            "Epoch 12/100\n",
            "\u001b[1m699/718\u001b[0m \u001b[32m━━━━━━━━━━━━━━━━━━━\u001b[0m\u001b[37m━\u001b[0m \u001b[1m0s\u001b[0m 3ms/step - loss: 0.0522 - mae: 0.1887\n",
            "Epoch 12: val_loss improved from 0.05285 to 0.05219, saving model to best_model_bert_tiny.weights.h5\n",
            "\u001b[1m718/718\u001b[0m \u001b[32m━━━━━━━━━━━━━━━━━━━━\u001b[0m\u001b[37m\u001b[0m \u001b[1m3s\u001b[0m 3ms/step - loss: 0.0522 - mae: 0.1887 - val_loss: 0.0522 - val_mae: 0.1903 - learning_rate: 1.0000e-04\n",
            "Epoch 13/100\n",
            "\u001b[1m711/718\u001b[0m \u001b[32m━━━━━━━━━━━━━━━━━━━\u001b[0m\u001b[37m━\u001b[0m \u001b[1m0s\u001b[0m 3ms/step - loss: 0.0511 - mae: 0.1871\n",
            "Epoch 13: val_loss improved from 0.05219 to 0.05197, saving model to best_model_bert_tiny.weights.h5\n",
            "\u001b[1m718/718\u001b[0m \u001b[32m━━━━━━━━━━━━━━━━━━━━\u001b[0m\u001b[37m\u001b[0m \u001b[1m3s\u001b[0m 4ms/step - loss: 0.0511 - mae: 0.1872 - val_loss: 0.0520 - val_mae: 0.1896 - learning_rate: 1.0000e-04\n",
            "Epoch 14/100\n",
            "\u001b[1m710/718\u001b[0m \u001b[32m━━━━━━━━━━━━━━━━━━━\u001b[0m\u001b[37m━\u001b[0m \u001b[1m0s\u001b[0m 3ms/step - loss: 0.0515 - mae: 0.1881\n",
            "Epoch 14: val_loss improved from 0.05197 to 0.05184, saving model to best_model_bert_tiny.weights.h5\n",
            "\u001b[1m718/718\u001b[0m \u001b[32m━━━━━━━━━━━━━━━━━━━━\u001b[0m\u001b[37m\u001b[0m \u001b[1m3s\u001b[0m 4ms/step - loss: 0.0515 - mae: 0.1881 - val_loss: 0.0518 - val_mae: 0.1875 - learning_rate: 1.0000e-04\n",
            "Epoch 15/100\n",
            "\u001b[1m713/718\u001b[0m \u001b[32m━━━━━━━━━━━━━━━━━━━\u001b[0m\u001b[37m━\u001b[0m \u001b[1m0s\u001b[0m 3ms/step - loss: 0.0510 - mae: 0.1869\n",
            "Epoch 15: val_loss improved from 0.05184 to 0.05171, saving model to best_model_bert_tiny.weights.h5\n",
            "\u001b[1m718/718\u001b[0m \u001b[32m━━━━━━━━━━━━━━━━━━━━\u001b[0m\u001b[37m\u001b[0m \u001b[1m2s\u001b[0m 3ms/step - loss: 0.0510 - mae: 0.1869 - val_loss: 0.0517 - val_mae: 0.1888 - learning_rate: 1.0000e-04\n",
            "Epoch 16/100\n",
            "\u001b[1m711/718\u001b[0m \u001b[32m━━━━━━━━━━━━━━━━━━━\u001b[0m\u001b[37m━\u001b[0m \u001b[1m0s\u001b[0m 3ms/step - loss: 0.0499 - mae: 0.1847\n",
            "Epoch 16: val_loss did not improve from 0.05171\n",
            "\u001b[1m718/718\u001b[0m \u001b[32m━━━━━━━━━━━━━━━━━━━━\u001b[0m\u001b[37m\u001b[0m \u001b[1m2s\u001b[0m 3ms/step - loss: 0.0499 - mae: 0.1847 - val_loss: 0.0519 - val_mae: 0.1904 - learning_rate: 1.0000e-04\n",
            "Epoch 17/100\n",
            "\u001b[1m710/718\u001b[0m \u001b[32m━━━━━━━━━━━━━━━━━━━\u001b[0m\u001b[37m━\u001b[0m \u001b[1m0s\u001b[0m 3ms/step - loss: 0.0497 - mae: 0.1840\n",
            "Epoch 17: val_loss improved from 0.05171 to 0.05117, saving model to best_model_bert_tiny.weights.h5\n",
            "\u001b[1m718/718\u001b[0m \u001b[32m━━━━━━━━━━━━━━━━━━━━\u001b[0m\u001b[37m\u001b[0m \u001b[1m2s\u001b[0m 3ms/step - loss: 0.0497 - mae: 0.1840 - val_loss: 0.0512 - val_mae: 0.1878 - learning_rate: 1.0000e-04\n",
            "Epoch 18/100\n",
            "\u001b[1m716/718\u001b[0m \u001b[32m━━━━━━━━━━━━━━━━━━━\u001b[0m\u001b[37m━\u001b[0m \u001b[1m0s\u001b[0m 3ms/step - loss: 0.0488 - mae: 0.1826\n",
            "Epoch 18: val_loss did not improve from 0.05117\n",
            "\u001b[1m718/718\u001b[0m \u001b[32m━━━━━━━━━━━━━━━━━━━━\u001b[0m\u001b[37m\u001b[0m \u001b[1m3s\u001b[0m 4ms/step - loss: 0.0488 - mae: 0.1826 - val_loss: 0.0518 - val_mae: 0.1890 - learning_rate: 1.0000e-04\n",
            "Epoch 19/100\n",
            "\u001b[1m716/718\u001b[0m \u001b[32m━━━━━━━━━━━━━━━━━━━\u001b[0m\u001b[37m━\u001b[0m \u001b[1m0s\u001b[0m 3ms/step - loss: 0.0488 - mae: 0.1823\n",
            "Epoch 19: val_loss improved from 0.05117 to 0.05041, saving model to best_model_bert_tiny.weights.h5\n",
            "\u001b[1m718/718\u001b[0m \u001b[32m━━━━━━━━━━━━━━━━━━━━\u001b[0m\u001b[37m\u001b[0m \u001b[1m3s\u001b[0m 3ms/step - loss: 0.0488 - mae: 0.1823 - val_loss: 0.0504 - val_mae: 0.1854 - learning_rate: 1.0000e-04\n",
            "Epoch 20/100\n",
            "\u001b[1m715/718\u001b[0m \u001b[32m━━━━━━━━━━━━━━━━━━━\u001b[0m\u001b[37m━\u001b[0m \u001b[1m0s\u001b[0m 3ms/step - loss: 0.0479 - mae: 0.1805\n",
            "Epoch 20: val_loss did not improve from 0.05041\n",
            "\u001b[1m718/718\u001b[0m \u001b[32m━━━━━━━━━━━━━━━━━━━━\u001b[0m\u001b[37m\u001b[0m \u001b[1m2s\u001b[0m 3ms/step - loss: 0.0479 - mae: 0.1805 - val_loss: 0.0505 - val_mae: 0.1864 - learning_rate: 1.0000e-04\n",
            "Epoch 21/100\n",
            "\u001b[1m717/718\u001b[0m \u001b[32m━━━━━━━━━━━━━━━━━━━\u001b[0m\u001b[37m━\u001b[0m \u001b[1m0s\u001b[0m 3ms/step - loss: 0.0475 - mae: 0.1794\n",
            "Epoch 21: val_loss improved from 0.05041 to 0.05004, saving model to best_model_bert_tiny.weights.h5\n",
            "\u001b[1m718/718\u001b[0m \u001b[32m━━━━━━━━━━━━━━━━━━━━\u001b[0m\u001b[37m\u001b[0m \u001b[1m3s\u001b[0m 3ms/step - loss: 0.0475 - mae: 0.1794 - val_loss: 0.0500 - val_mae: 0.1847 - learning_rate: 1.0000e-04\n",
            "Epoch 22/100\n",
            "\u001b[1m714/718\u001b[0m \u001b[32m━━━━━━━━━━━━━━━━━━━\u001b[0m\u001b[37m━\u001b[0m \u001b[1m0s\u001b[0m 3ms/step - loss: 0.0471 - mae: 0.1780\n",
            "Epoch 22: val_loss did not improve from 0.05004\n",
            "\u001b[1m718/718\u001b[0m \u001b[32m━━━━━━━━━━━━━━━━━━━━\u001b[0m\u001b[37m\u001b[0m \u001b[1m2s\u001b[0m 3ms/step - loss: 0.0471 - mae: 0.1780 - val_loss: 0.0509 - val_mae: 0.1871 - learning_rate: 1.0000e-04\n",
            "Epoch 23/100\n",
            "\u001b[1m705/718\u001b[0m \u001b[32m━━━━━━━━━━━━━━━━━━━\u001b[0m\u001b[37m━\u001b[0m \u001b[1m0s\u001b[0m 3ms/step - loss: 0.0471 - mae: 0.1777\n",
            "Epoch 23: val_loss did not improve from 0.05004\n",
            "\u001b[1m718/718\u001b[0m \u001b[32m━━━━━━━━━━━━━━━━━━━━\u001b[0m\u001b[37m\u001b[0m \u001b[1m3s\u001b[0m 4ms/step - loss: 0.0471 - mae: 0.1777 - val_loss: 0.0502 - val_mae: 0.1839 - learning_rate: 1.0000e-04\n",
            "Epoch 24/100\n",
            "\u001b[1m698/718\u001b[0m \u001b[32m━━━━━━━━━━━━━━━━━━━\u001b[0m\u001b[37m━\u001b[0m \u001b[1m0s\u001b[0m 2ms/step - loss: 0.0472 - mae: 0.1782\n",
            "Epoch 24: val_loss improved from 0.05004 to 0.04960, saving model to best_model_bert_tiny.weights.h5\n",
            "\u001b[1m718/718\u001b[0m \u001b[32m━━━━━━━━━━━━━━━━━━━━\u001b[0m\u001b[37m\u001b[0m \u001b[1m5s\u001b[0m 3ms/step - loss: 0.0472 - mae: 0.1782 - val_loss: 0.0496 - val_mae: 0.1842 - learning_rate: 1.0000e-04\n",
            "Epoch 25/100\n",
            "\u001b[1m718/718\u001b[0m \u001b[32m━━━━━━━━━━━━━━━━━━━━\u001b[0m\u001b[37m\u001b[0m \u001b[1m0s\u001b[0m 2ms/step - loss: 0.0466 - mae: 0.1776\n",
            "Epoch 25: val_loss improved from 0.04960 to 0.04940, saving model to best_model_bert_tiny.weights.h5\n",
            "\u001b[1m718/718\u001b[0m \u001b[32m━━━━━━━━━━━━━━━━━━━━\u001b[0m\u001b[37m\u001b[0m \u001b[1m2s\u001b[0m 3ms/step - loss: 0.0466 - mae: 0.1776 - val_loss: 0.0494 - val_mae: 0.1821 - learning_rate: 1.0000e-04\n",
            "Epoch 26/100\n",
            "\u001b[1m706/718\u001b[0m \u001b[32m━━━━━━━━━━━━━━━━━━━\u001b[0m\u001b[37m━\u001b[0m \u001b[1m0s\u001b[0m 3ms/step - loss: 0.0461 - mae: 0.1756\n",
            "Epoch 26: val_loss improved from 0.04940 to 0.04929, saving model to best_model_bert_tiny.weights.h5\n",
            "\u001b[1m718/718\u001b[0m \u001b[32m━━━━━━━━━━━━━━━━━━━━\u001b[0m\u001b[37m\u001b[0m \u001b[1m3s\u001b[0m 4ms/step - loss: 0.0461 - mae: 0.1756 - val_loss: 0.0493 - val_mae: 0.1820 - learning_rate: 1.0000e-04\n",
            "Epoch 27/100\n",
            "\u001b[1m705/718\u001b[0m \u001b[32m━━━━━━━━━━━━━━━━━━━\u001b[0m\u001b[37m━\u001b[0m \u001b[1m0s\u001b[0m 3ms/step - loss: 0.0463 - mae: 0.1764\n",
            "Epoch 27: val_loss improved from 0.04929 to 0.04914, saving model to best_model_bert_tiny.weights.h5\n",
            "\u001b[1m718/718\u001b[0m \u001b[32m━━━━━━━━━━━━━━━━━━━━\u001b[0m\u001b[37m\u001b[0m \u001b[1m3s\u001b[0m 4ms/step - loss: 0.0463 - mae: 0.1764 - val_loss: 0.0491 - val_mae: 0.1815 - learning_rate: 1.0000e-04\n",
            "Epoch 28/100\n",
            "\u001b[1m701/718\u001b[0m \u001b[32m━━━━━━━━━━━━━━━━━━━\u001b[0m\u001b[37m━\u001b[0m \u001b[1m0s\u001b[0m 3ms/step - loss: 0.0459 - mae: 0.1755\n",
            "Epoch 28: val_loss did not improve from 0.04914\n",
            "\u001b[1m718/718\u001b[0m \u001b[32m━━━━━━━━━━━━━━━━━━━━\u001b[0m\u001b[37m\u001b[0m \u001b[1m5s\u001b[0m 4ms/step - loss: 0.0459 - mae: 0.1755 - val_loss: 0.0492 - val_mae: 0.1819 - learning_rate: 1.0000e-04\n",
            "Epoch 29/100\n",
            "\u001b[1m711/718\u001b[0m \u001b[32m━━━━━━━━━━━━━━━━━━━\u001b[0m\u001b[37m━\u001b[0m \u001b[1m0s\u001b[0m 3ms/step - loss: 0.0454 - mae: 0.1743\n",
            "Epoch 29: val_loss improved from 0.04914 to 0.04905, saving model to best_model_bert_tiny.weights.h5\n",
            "\u001b[1m718/718\u001b[0m \u001b[32m━━━━━━━━━━━━━━━━━━━━\u001b[0m\u001b[37m\u001b[0m \u001b[1m5s\u001b[0m 4ms/step - loss: 0.0454 - mae: 0.1743 - val_loss: 0.0491 - val_mae: 0.1804 - learning_rate: 1.0000e-04\n",
            "Epoch 30/100\n",
            "\u001b[1m713/718\u001b[0m \u001b[32m━━━━━━━━━━━━━━━━━━━\u001b[0m\u001b[37m━\u001b[0m \u001b[1m0s\u001b[0m 3ms/step - loss: 0.0452 - mae: 0.1738\n",
            "Epoch 30: val_loss improved from 0.04905 to 0.04886, saving model to best_model_bert_tiny.weights.h5\n",
            "\u001b[1m718/718\u001b[0m \u001b[32m━━━━━━━━━━━━━━━━━━━━\u001b[0m\u001b[37m\u001b[0m \u001b[1m2s\u001b[0m 3ms/step - loss: 0.0452 - mae: 0.1738 - val_loss: 0.0489 - val_mae: 0.1808 - learning_rate: 1.0000e-04\n",
            "Epoch 31/100\n",
            "\u001b[1m709/718\u001b[0m \u001b[32m━━━━━━━━━━━━━━━━━━━\u001b[0m\u001b[37m━\u001b[0m \u001b[1m0s\u001b[0m 3ms/step - loss: 0.0443 - mae: 0.1718\n",
            "Epoch 31: val_loss did not improve from 0.04886\n",
            "\u001b[1m718/718\u001b[0m \u001b[32m━━━━━━━━━━━━━━━━━━━━\u001b[0m\u001b[37m\u001b[0m \u001b[1m3s\u001b[0m 3ms/step - loss: 0.0443 - mae: 0.1719 - val_loss: 0.0497 - val_mae: 0.1838 - learning_rate: 1.0000e-04\n",
            "Epoch 32/100\n",
            "\u001b[1m716/718\u001b[0m \u001b[32m━━━━━━━━━━━━━━━━━━━\u001b[0m\u001b[37m━\u001b[0m \u001b[1m0s\u001b[0m 3ms/step - loss: 0.0442 - mae: 0.1717\n",
            "Epoch 32: val_loss improved from 0.04886 to 0.04847, saving model to best_model_bert_tiny.weights.h5\n",
            "\u001b[1m718/718\u001b[0m \u001b[32m━━━━━━━━━━━━━━━━━━━━\u001b[0m\u001b[37m\u001b[0m \u001b[1m2s\u001b[0m 3ms/step - loss: 0.0442 - mae: 0.1717 - val_loss: 0.0485 - val_mae: 0.1797 - learning_rate: 1.0000e-04\n",
            "Epoch 33/100\n",
            "\u001b[1m714/718\u001b[0m \u001b[32m━━━━━━━━━━━━━━━━━━━\u001b[0m\u001b[37m━\u001b[0m \u001b[1m0s\u001b[0m 3ms/step - loss: 0.0444 - mae: 0.1720\n",
            "Epoch 33: val_loss did not improve from 0.04847\n",
            "\u001b[1m718/718\u001b[0m \u001b[32m━━━━━━━━━━━━━━━━━━━━\u001b[0m\u001b[37m\u001b[0m \u001b[1m3s\u001b[0m 3ms/step - loss: 0.0444 - mae: 0.1720 - val_loss: 0.0488 - val_mae: 0.1790 - learning_rate: 1.0000e-04\n",
            "Epoch 34/100\n",
            "\u001b[1m712/718\u001b[0m \u001b[32m━━━━━━━━━━━━━━━━━━━\u001b[0m\u001b[37m━\u001b[0m \u001b[1m0s\u001b[0m 3ms/step - loss: 0.0437 - mae: 0.1706\n",
            "Epoch 34: val_loss did not improve from 0.04847\n",
            "\u001b[1m718/718\u001b[0m \u001b[32m━━━━━━━━━━━━━━━━━━━━\u001b[0m\u001b[37m\u001b[0m \u001b[1m3s\u001b[0m 4ms/step - loss: 0.0437 - mae: 0.1706 - val_loss: 0.0489 - val_mae: 0.1818 - learning_rate: 1.0000e-04\n",
            "Epoch 35/100\n",
            "\u001b[1m709/718\u001b[0m \u001b[32m━━━━━━━━━━━━━━━━━━━\u001b[0m\u001b[37m━\u001b[0m \u001b[1m0s\u001b[0m 2ms/step - loss: 0.0438 - mae: 0.1708\n",
            "Epoch 35: val_loss improved from 0.04847 to 0.04828, saving model to best_model_bert_tiny.weights.h5\n",
            "\u001b[1m718/718\u001b[0m \u001b[32m━━━━━━━━━━━━━━━━━━━━\u001b[0m\u001b[37m\u001b[0m \u001b[1m2s\u001b[0m 3ms/step - loss: 0.0438 - mae: 0.1708 - val_loss: 0.0483 - val_mae: 0.1791 - learning_rate: 1.0000e-04\n",
            "Epoch 36/100\n",
            "\u001b[1m699/718\u001b[0m \u001b[32m━━━━━━━━━━━━━━━━━━━\u001b[0m\u001b[37m━\u001b[0m \u001b[1m0s\u001b[0m 2ms/step - loss: 0.0440 - mae: 0.1704\n",
            "Epoch 36: val_loss improved from 0.04828 to 0.04813, saving model to best_model_bert_tiny.weights.h5\n",
            "\u001b[1m718/718\u001b[0m \u001b[32m━━━━━━━━━━━━━━━━━━━━\u001b[0m\u001b[37m\u001b[0m \u001b[1m3s\u001b[0m 3ms/step - loss: 0.0439 - mae: 0.1704 - val_loss: 0.0481 - val_mae: 0.1793 - learning_rate: 1.0000e-04\n",
            "Epoch 37/100\n",
            "\u001b[1m709/718\u001b[0m \u001b[32m━━━━━━━━━━━━━━━━━━━\u001b[0m\u001b[37m━\u001b[0m \u001b[1m0s\u001b[0m 3ms/step - loss: 0.0430 - mae: 0.1692\n",
            "Epoch 37: val_loss did not improve from 0.04813\n",
            "\u001b[1m718/718\u001b[0m \u001b[32m━━━━━━━━━━━━━━━━━━━━\u001b[0m\u001b[37m\u001b[0m \u001b[1m2s\u001b[0m 3ms/step - loss: 0.0430 - mae: 0.1692 - val_loss: 0.0484 - val_mae: 0.1775 - learning_rate: 1.0000e-04\n",
            "Epoch 38/100\n",
            "\u001b[1m715/718\u001b[0m \u001b[32m━━━━━━━━━━━━━━━━━━━\u001b[0m\u001b[37m━\u001b[0m \u001b[1m0s\u001b[0m 3ms/step - loss: 0.0422 - mae: 0.1666\n",
            "Epoch 38: val_loss did not improve from 0.04813\n",
            "\u001b[1m718/718\u001b[0m \u001b[32m━━━━━━━━━━━━━━━━━━━━\u001b[0m\u001b[37m\u001b[0m \u001b[1m3s\u001b[0m 4ms/step - loss: 0.0422 - mae: 0.1666 - val_loss: 0.0482 - val_mae: 0.1783 - learning_rate: 1.0000e-04\n",
            "Epoch 39/100\n",
            "\u001b[1m717/718\u001b[0m \u001b[32m━━━━━━━━━━━━━━━━━━━\u001b[0m\u001b[37m━\u001b[0m \u001b[1m0s\u001b[0m 3ms/step - loss: 0.0426 - mae: 0.1676\n",
            "Epoch 39: val_loss improved from 0.04813 to 0.04791, saving model to best_model_bert_tiny.weights.h5\n",
            "\u001b[1m718/718\u001b[0m \u001b[32m━━━━━━━━━━━━━━━━━━━━\u001b[0m\u001b[37m\u001b[0m \u001b[1m3s\u001b[0m 4ms/step - loss: 0.0426 - mae: 0.1676 - val_loss: 0.0479 - val_mae: 0.1786 - learning_rate: 1.0000e-04\n",
            "Epoch 40/100\n",
            "\u001b[1m717/718\u001b[0m \u001b[32m━━━━━━━━━━━━━━━━━━━\u001b[0m\u001b[37m━\u001b[0m \u001b[1m0s\u001b[0m 3ms/step - loss: 0.0425 - mae: 0.1678\n",
            "Epoch 40: val_loss improved from 0.04791 to 0.04776, saving model to best_model_bert_tiny.weights.h5\n",
            "\u001b[1m718/718\u001b[0m \u001b[32m━━━━━━━━━━━━━━━━━━━━\u001b[0m\u001b[37m\u001b[0m \u001b[1m2s\u001b[0m 3ms/step - loss: 0.0425 - mae: 0.1678 - val_loss: 0.0478 - val_mae: 0.1782 - learning_rate: 1.0000e-04\n",
            "Epoch 41/100\n",
            "\u001b[1m710/718\u001b[0m \u001b[32m━━━━━━━━━━━━━━━━━━━\u001b[0m\u001b[37m━\u001b[0m \u001b[1m0s\u001b[0m 3ms/step - loss: 0.0419 - mae: 0.1663\n",
            "Epoch 41: val_loss did not improve from 0.04776\n",
            "\u001b[1m718/718\u001b[0m \u001b[32m━━━━━━━━━━━━━━━━━━━━\u001b[0m\u001b[37m\u001b[0m \u001b[1m3s\u001b[0m 4ms/step - loss: 0.0419 - mae: 0.1663 - val_loss: 0.0487 - val_mae: 0.1806 - learning_rate: 1.0000e-04\n",
            "Epoch 42/100\n",
            "\u001b[1m712/718\u001b[0m \u001b[32m━━━━━━━━━━━━━━━━━━━\u001b[0m\u001b[37m━\u001b[0m \u001b[1m0s\u001b[0m 3ms/step - loss: 0.0420 - mae: 0.1670\n",
            "Epoch 42: val_loss improved from 0.04776 to 0.04775, saving model to best_model_bert_tiny.weights.h5\n",
            "\u001b[1m718/718\u001b[0m \u001b[32m━━━━━━━━━━━━━━━━━━━━\u001b[0m\u001b[37m\u001b[0m \u001b[1m2s\u001b[0m 3ms/step - loss: 0.0420 - mae: 0.1670 - val_loss: 0.0477 - val_mae: 0.1774 - learning_rate: 1.0000e-04\n",
            "Epoch 43/100\n",
            "\u001b[1m717/718\u001b[0m \u001b[32m━━━━━━━━━━━━━━━━━━━\u001b[0m\u001b[37m━\u001b[0m \u001b[1m0s\u001b[0m 3ms/step - loss: 0.0421 - mae: 0.1668\n",
            "Epoch 43: val_loss did not improve from 0.04775\n",
            "\u001b[1m718/718\u001b[0m \u001b[32m━━━━━━━━━━━━━━━━━━━━\u001b[0m\u001b[37m\u001b[0m \u001b[1m3s\u001b[0m 4ms/step - loss: 0.0421 - mae: 0.1668 - val_loss: 0.0484 - val_mae: 0.1803 - learning_rate: 1.0000e-04\n",
            "Epoch 44/100\n",
            "\u001b[1m702/718\u001b[0m \u001b[32m━━━━━━━━━━━━━━━━━━━\u001b[0m\u001b[37m━\u001b[0m \u001b[1m0s\u001b[0m 3ms/step - loss: 0.0414 - mae: 0.1654\n",
            "Epoch 44: val_loss did not improve from 0.04775\n",
            "\u001b[1m718/718\u001b[0m \u001b[32m━━━━━━━━━━━━━━━━━━━━\u001b[0m\u001b[37m\u001b[0m \u001b[1m3s\u001b[0m 4ms/step - loss: 0.0414 - mae: 0.1654 - val_loss: 0.0478 - val_mae: 0.1768 - learning_rate: 1.0000e-04\n",
            "Epoch 45/100\n",
            "\u001b[1m708/718\u001b[0m \u001b[32m━━━━━━━━━━━━━━━━━━━\u001b[0m\u001b[37m━\u001b[0m \u001b[1m0s\u001b[0m 3ms/step - loss: 0.0409 - mae: 0.1640\n",
            "Epoch 45: val_loss did not improve from 0.04775\n",
            "\n",
            "Epoch 45: ReduceLROnPlateau reducing learning rate to 4.999999873689376e-05.\n",
            "\u001b[1m718/718\u001b[0m \u001b[32m━━━━━━━━━━━━━━━━━━━━\u001b[0m\u001b[37m\u001b[0m \u001b[1m2s\u001b[0m 3ms/step - loss: 0.0409 - mae: 0.1640 - val_loss: 0.0480 - val_mae: 0.1792 - learning_rate: 1.0000e-04\n",
            "Epoch 46/100\n",
            "\u001b[1m709/718\u001b[0m \u001b[32m━━━━━━━━━━━━━━━━━━━\u001b[0m\u001b[37m━\u001b[0m \u001b[1m0s\u001b[0m 3ms/step - loss: 0.0403 - mae: 0.1628\n",
            "Epoch 46: val_loss improved from 0.04775 to 0.04759, saving model to best_model_bert_tiny.weights.h5\n",
            "\u001b[1m718/718\u001b[0m \u001b[32m━━━━━━━━━━━━━━━━━━━━\u001b[0m\u001b[37m\u001b[0m \u001b[1m2s\u001b[0m 3ms/step - loss: 0.0403 - mae: 0.1628 - val_loss: 0.0476 - val_mae: 0.1776 - learning_rate: 5.0000e-05\n",
            "Epoch 47/100\n",
            "\u001b[1m707/718\u001b[0m \u001b[32m━━━━━━━━━━━━━━━━━━━\u001b[0m\u001b[37m━\u001b[0m \u001b[1m0s\u001b[0m 3ms/step - loss: 0.0410 - mae: 0.1644\n",
            "Epoch 47: val_loss improved from 0.04759 to 0.04740, saving model to best_model_bert_tiny.weights.h5\n",
            "\u001b[1m718/718\u001b[0m \u001b[32m━━━━━━━━━━━━━━━━━━━━\u001b[0m\u001b[37m\u001b[0m \u001b[1m3s\u001b[0m 3ms/step - loss: 0.0410 - mae: 0.1644 - val_loss: 0.0474 - val_mae: 0.1762 - learning_rate: 5.0000e-05\n",
            "Epoch 48/100\n",
            "\u001b[1m711/718\u001b[0m \u001b[32m━━━━━━━━━━━━━━━━━━━\u001b[0m\u001b[37m━\u001b[0m \u001b[1m0s\u001b[0m 3ms/step - loss: 0.0410 - mae: 0.1640\n",
            "Epoch 48: val_loss improved from 0.04740 to 0.04734, saving model to best_model_bert_tiny.weights.h5\n",
            "\u001b[1m718/718\u001b[0m \u001b[32m━━━━━━━━━━━━━━━━━━━━\u001b[0m\u001b[37m\u001b[0m \u001b[1m3s\u001b[0m 4ms/step - loss: 0.0409 - mae: 0.1640 - val_loss: 0.0473 - val_mae: 0.1763 - learning_rate: 5.0000e-05\n",
            "Epoch 49/100\n",
            "\u001b[1m699/718\u001b[0m \u001b[32m━━━━━━━━━━━━━━━━━━━\u001b[0m\u001b[37m━\u001b[0m \u001b[1m0s\u001b[0m 3ms/step - loss: 0.0404 - mae: 0.1625\n",
            "Epoch 49: val_loss did not improve from 0.04734\n",
            "\u001b[1m718/718\u001b[0m \u001b[32m━━━━━━━━━━━━━━━━━━━━\u001b[0m\u001b[37m\u001b[0m \u001b[1m4s\u001b[0m 3ms/step - loss: 0.0404 - mae: 0.1625 - val_loss: 0.0479 - val_mae: 0.1757 - learning_rate: 5.0000e-05\n",
            "Epoch 50/100\n",
            "\u001b[1m698/718\u001b[0m \u001b[32m━━━━━━━━━━━━━━━━━━━\u001b[0m\u001b[37m━\u001b[0m \u001b[1m0s\u001b[0m 2ms/step - loss: 0.0400 - mae: 0.1617\n",
            "Epoch 50: val_loss did not improve from 0.04734\n",
            "\u001b[1m718/718\u001b[0m \u001b[32m━━━━━━━━━━━━━━━━━━━━\u001b[0m\u001b[37m\u001b[0m \u001b[1m2s\u001b[0m 3ms/step - loss: 0.0400 - mae: 0.1618 - val_loss: 0.0477 - val_mae: 0.1784 - learning_rate: 5.0000e-05\n",
            "Epoch 51/100\n",
            "\u001b[1m699/718\u001b[0m \u001b[32m━━━━━━━━━━━━━━━━━━━\u001b[0m\u001b[37m━\u001b[0m \u001b[1m0s\u001b[0m 3ms/step - loss: 0.0406 - mae: 0.1636\n",
            "Epoch 51: val_loss did not improve from 0.04734\n",
            "\u001b[1m718/718\u001b[0m \u001b[32m━━━━━━━━━━━━━━━━━━━━\u001b[0m\u001b[37m\u001b[0m \u001b[1m3s\u001b[0m 3ms/step - loss: 0.0406 - mae: 0.1636 - val_loss: 0.0476 - val_mae: 0.1777 - learning_rate: 5.0000e-05\n",
            "Epoch 52/100\n",
            "\u001b[1m703/718\u001b[0m \u001b[32m━━━━━━━━━━━━━━━━━━━\u001b[0m\u001b[37m━\u001b[0m \u001b[1m0s\u001b[0m 4ms/step - loss: 0.0401 - mae: 0.1620\n",
            "Epoch 52: val_loss did not improve from 0.04734\n",
            "\n",
            "Epoch 52: ReduceLROnPlateau reducing learning rate to 2.499999936844688e-05.\n",
            "\u001b[1m718/718\u001b[0m \u001b[32m━━━━━━━━━━━━━━━━━━━━\u001b[0m\u001b[37m\u001b[0m \u001b[1m3s\u001b[0m 4ms/step - loss: 0.0401 - mae: 0.1620 - val_loss: 0.0474 - val_mae: 0.1764 - learning_rate: 5.0000e-05\n",
            "Epoch 53/100\n",
            "\u001b[1m708/718\u001b[0m \u001b[32m━━━━━━━━━━━━━━━━━━━\u001b[0m\u001b[37m━\u001b[0m \u001b[1m0s\u001b[0m 3ms/step - loss: 0.0394 - mae: 0.1607\n",
            "Epoch 53: val_loss did not improve from 0.04734\n",
            "\u001b[1m718/718\u001b[0m \u001b[32m━━━━━━━━━━━━━━━━━━━━\u001b[0m\u001b[37m\u001b[0m \u001b[1m4s\u001b[0m 3ms/step - loss: 0.0394 - mae: 0.1608 - val_loss: 0.0475 - val_mae: 0.1769 - learning_rate: 2.5000e-05\n"
          ]
        }
      ]
    },
    {
      "cell_type": "code",
      "source": [
        "\n",
        "import matplotlib.pyplot as plt\n",
        "\n",
        "plt.plot(history.history['loss'], label='train_loss')\n",
        "plt.plot(history.history['val_loss'], label='val_loss')\n",
        "plt.plot(history.history['val_mae'], label='val_mae')\n",
        "plt.xlabel('Epoch')\n",
        "plt.legend()\n",
        "plt.grid(True)\n",
        "plt.show()"
      ],
      "metadata": {
        "colab": {
          "base_uri": "https://localhost:8080/",
          "height": 449
        },
        "id": "Outa-eHaYHPs",
        "outputId": "18732cd7-cdfb-4e71-97af-77cbc3a6ed4c"
      },
      "execution_count": 25,
      "outputs": [
        {
          "output_type": "display_data",
          "data": {
            "text/plain": [
              "<Figure size 640x480 with 1 Axes>"
            ],
            "image/png": "[encoded data removed]"
          },
          "metadata": {}
        }
      ]
    },
    {
      "cell_type": "code",
      "source": [
        "def scale(n):\n",
        "    return int(n * 255)"
      ],
      "metadata": {
        "id": "_GkWZIRoYN7i"
      },
      "execution_count": 26,
      "outputs": []
    },
    {
      "cell_type": "code",
      "source": [
        "def plot_rgb(rgb):\n",
        "    data = [[rgb]]\n",
        "    plt.figure(figsize=(2, 2))\n",
        "    plt.imshow(data, interpolation='nearest')\n",
        "    plt.show()"
      ],
      "metadata": {
        "id": "_MTMsLArYSsy"
      },
      "execution_count": 27,
      "outputs": []
    },
    {
      "cell_type": "code",
      "source": [
        "def predict(name):\n",
        "    name = name.lower()\n",
        "    # Tokenize input (chuẩn cho BERT)\n",
        "    encoded = tokenizer(\n",
        "        name,\n",
        "        padding='max_length',\n",
        "        truncation=True,\n",
        "        max_length=16,  # hoặc dài hơn nếu bạn muốn\n",
        "        return_tensors='tf'\n",
        "    )\n",
        "\n",
        "    # Dự đoán RGB\n",
        "    pred = model.predict({\n",
        "        \"input_ids\": encoded[\"input_ids\"],\n",
        "        \"attention_mask\": encoded[\"attention_mask\"]\n",
        "    }, verbose=0)[0]  # lấy [0] vì chỉ có 1 mẫu\n",
        "\n",
        "    # Scale về 0-255\n",
        "    r, g, b = scale(pred[0]), scale(pred[1]), scale(pred[2])\n",
        "\n",
        "    print(name + ',', 'R,G,B:', r, g, b)\n",
        "    plot_rgb(pred)"
      ],
      "metadata": {
        "id": "tkuBVd9oYUcd"
      },
      "execution_count": 28,
      "outputs": []
    },
    {
      "cell_type": "code",
      "source": [
        "n = input()\n",
        "predict(n)"
      ],
      "metadata": {
        "colab": {
          "base_uri": "https://localhost:8080/",
          "height": 249
        },
        "id": "n2_AFPS1YYXN",
        "outputId": "d39010ba-de5a-4400-9805-fe2bbae180fc"
      },
      "execution_count": 29,
      "outputs": [
        {
          "output_type": "stream",
          "name": "stdout",
          "text": [
            "Lemon Yellow\n",
            "lemon yellow, R,G,B: 233 218 64\n"
          ]
        },
        {
          "output_type": "display_data",
          "data": {
            "text/plain": [
              "<Figure size 200x200 with 1 Axes>"
            ],
            "image/png": "[encoded data removed]"
          },
          "metadata": {}
        }
      ]
    },
    {
      "cell_type": "code",
      "source": [
        "n = input()\n",
        "predict(n)"
      ],
      "metadata": {
        "colab": {
          "base_uri": "https://localhost:8080/",
          "height": 249
        },
        "id": "2iS2jNidYkaV",
        "outputId": "fc312182-8513-4c70-c817-36862065dc33"
      },
      "execution_count": 30,
      "outputs": [
        {
          "output_type": "stream",
          "name": "stdout",
          "text": [
            "Sky Blue\n",
            "sky blue, R,G,B: 111 196 217\n"
          ]
        },
        {
          "output_type": "display_data",
          "data": {
            "text/plain": [
              "<Figure size 200x200 with 1 Axes>"
            ],
            "image/png": "[encoded data removed]"
          },
          "metadata": {}
        }
      ]
    },
    {
      "cell_type": "code",
      "source": [
        "n = input()\n",
        "predict(n)"
      ],
      "metadata": {
        "colab": {
          "base_uri": "https://localhost:8080/",
          "height": 249
        },
        "id": "a1HO0J5LYqqb",
        "outputId": "3d71585b-f794-4b56-ed4a-114d5de2422e"
      },
      "execution_count": 31,
      "outputs": [
        {
          "output_type": "stream",
          "name": "stdout",
          "text": [
            "Cucumber\n",
            "cucumber, R,G,B: 190 179 155\n"
          ]
        },
        {
          "output_type": "display_data",
          "data": {
            "text/plain": [
              "<Figure size 200x200 with 1 Axes>"
            ],
            "image/png": "[encoded data removed]"
          },
          "metadata": {}
        }
      ]
    },
    {
      "cell_type": "code",
      "source": [
        "n = input()\n",
        "predict(n)"
      ],
      "metadata": {
        "colab": {
          "base_uri": "https://localhost:8080/",
          "height": 249
        },
        "id": "I2y7stfPYtFf",
        "outputId": "64166b97-704a-4af3-d6fa-21967e482893"
      },
      "execution_count": 32,
      "outputs": [
        {
          "output_type": "stream",
          "name": "stdout",
          "text": [
            "Ocean\n",
            "ocean, R,G,B: 92 146 156\n"
          ]
        },
        {
          "output_type": "display_data",
          "data": {
            "text/plain": [
              "<Figure size 200x200 with 1 Axes>"
            ],
            "image/png": "[encoded data removed]"
          },
          "metadata": {}
        }
      ]
    },
    {
      "cell_type": "code",
      "source": [
        "n = input()\n",
        "predict(n)"
      ],
      "metadata": {
        "colab": {
          "base_uri": "https://localhost:8080/",
          "height": 249
        },
        "id": "-atd2_YhYwy4",
        "outputId": "8b941505-6828-41cc-c7f3-5b28d9c0dca5"
      },
      "execution_count": 33,
      "outputs": [
        {
          "output_type": "stream",
          "name": "stdout",
          "text": [
            "Red\n",
            "red, R,G,B: 160 80 62\n"
          ]
        },
        {
          "output_type": "display_data",
          "data": {
            "text/plain": [
              "<Figure size 200x200 with 1 Axes>"
            ],
            "image/png": "[encoded data removed]"
          },
          "metadata": {}
        }
      ]
    },
    {
      "cell_type": "markdown",
      "source": [
        "Evaluate"
      ],
      "metadata": {
        "id": "60kO94MZYzkG"
      }
    },
    {
      "cell_type": "code",
      "source": [
        "X_train, X_val, y_train, y_val = train_test_split(\n",
        "    X_texts, y_rgb, test_size=0.3, shuffle = True, random_state=42\n",
        ")"
      ],
      "metadata": {
        "id": "zyEi_sv2Y0o-"
      },
      "execution_count": 34,
      "outputs": []
    },
    {
      "cell_type": "code",
      "source": [
        "model.load_weights(\"best_model_bert_tiny.weights.h5\")"
      ],
      "metadata": {
        "id": "Linops_KY2ir"
      },
      "execution_count": 35,
      "outputs": []
    },
    {
      "cell_type": "code",
      "source": [
        "X_val_2 = tokenize_text(X_val)"
      ],
      "metadata": {
        "id": "6exgjj5AY5fV"
      },
      "execution_count": 36,
      "outputs": []
    },
    {
      "cell_type": "code",
      "source": [
        "y_pred = model.predict(X_val_2)"
      ],
      "metadata": {
        "colab": {
          "base_uri": "https://localhost:8080/"
        },
        "id": "g0iU2yscY66z",
        "outputId": "ed1fbf44-5bdf-4167-d106-ef6d1fb850d8"
      },
      "execution_count": 37,
      "outputs": [
        {
          "output_type": "stream",
          "name": "stdout",
          "text": [
            "\u001b[1m135/135\u001b[0m \u001b[32m━━━━━━━━━━━━━━━━━━━━\u001b[0m\u001b[37m\u001b[0m \u001b[1m4s\u001b[0m 15ms/step\n"
          ]
        }
      ]
    },
    {
      "cell_type": "code",
      "source": [
        "!pip install colormath"
      ],
      "metadata": {
        "colab": {
          "base_uri": "https://localhost:8080/"
        },
        "id": "HUkmDvDCY9WD",
        "outputId": "1e6c44ae-fd50-44bb-dd94-5cf6df51a4c7"
      },
      "execution_count": 38,
      "outputs": [
        {
          "output_type": "stream",
          "name": "stdout",
          "text": [
            "Collecting colormath\n",
            "  Downloading colormath-3.0.0.tar.gz (39 kB)\n",
            "  Preparing metadata (setup.py) ... \u001b[?25l\u001b[?25hdone\n",
            "Requirement already satisfied: numpy in /usr/local/lib/python3.11/dist-packages (from colormath) (2.0.2)\n",
            "Requirement already satisfied: networkx>=2.0 in /usr/local/lib/python3.11/dist-packages (from colormath) (3.5)\n",
            "Building wheels for collected packages: colormath\n",
            "  Building wheel for colormath (setup.py) ... \u001b[?25l\u001b[?25hdone\n",
            "  Created wheel for colormath: filename=colormath-3.0.0-py3-none-any.whl size=39405 sha256=da7f6a250dfadaea80692aea7ba01f597542ff4a0a2984939adbde85f316dda6\n",
            "  Stored in directory: /root/.cache/pip/wheels/f5/ce/f7/7039d7b57e1a27fc2f6bb2b2abed1be362eefece03caf2fb9a\n",
            "Successfully built colormath\n",
            "Installing collected packages: colormath\n",
            "Successfully installed colormath-3.0.0\n"
          ]
        }
      ]
    },
    {
      "cell_type": "code",
      "source": [
        "from colormath.color_objects import LabColor, sRGBColor\n",
        "from colormath.color_conversions import convert_color\n",
        "from colormath.color_diff import delta_e_cie2000\n",
        "import numpy as np\n",
        "if not hasattr(np, 'asscalar'):\n",
        "    np.asscalar = lambda x: x.item()\n",
        "\n",
        "def compute_ciede2000_each_point(y_true, y_pred):\n",
        "    delta_e_list = []\n",
        "    for true_rgb, pred_rgb in zip(y_true, y_pred):\n",
        "        c1 = sRGBColor(*true_rgb, is_upscaled=True)\n",
        "        c2 = sRGBColor(*pred_rgb, is_upscaled=True)\n",
        "        lab1 = convert_color(c1, LabColor)\n",
        "        lab2 = convert_color(c2, LabColor)\n",
        "        delta_e = float(delta_e_cie2000(lab1, lab2))\n",
        "        delta_e_list.append(delta_e)\n",
        "    return delta_e_list\n",
        "\n",
        "# Scale về [0, 255] nếu cần\n",
        "y_true_scaled = np.clip(y_val * 255, 0, 255)\n",
        "y_pred_scaled = np.clip(y_pred * 255, 0, 255)\n",
        "\n",
        "delta_e_list = compute_ciede2000_each_point(y_true_scaled, y_pred_scaled)"
      ],
      "metadata": {
        "id": "yfEphrRkY-4e"
      },
      "execution_count": 39,
      "outputs": []
    },
    {
      "cell_type": "code",
      "source": [
        "import matplotlib.pyplot as plt\n",
        "\n",
        "plt.figure(figsize=(8, 5))\n",
        "plt.hist(delta_e_list, bins=50, color='skyblue', edgecolor='black')\n",
        "plt.title(\"Phân bố giá trị CIEDE2000 trên tập validation\")\n",
        "plt.xlabel(\"ΔE₀₀\")\n",
        "plt.ylabel(\"Số lượng điểm\")\n",
        "plt.grid(True)\n",
        "plt.show()"
      ],
      "metadata": {
        "colab": {
          "base_uri": "https://localhost:8080/",
          "height": 489
        },
        "id": "RvE4ORq6ZCPT",
        "outputId": "0425528f-2bd0-4268-bc3b-ffa5b066a847"
      },
      "execution_count": 40,
      "outputs": [
        {
          "output_type": "display_data",
          "data": {
            "text/plain": [
              "<Figure size 800x500 with 1 Axes>"
            ],
            "image/png": "[encoded data removed]"
          },
          "metadata": {}
        }
      ]
    },
    {
      "cell_type": "code",
      "source": [
        "results = model.evaluate(X_val_2, y_val)"
      ],
      "metadata": {
        "colab": {
          "base_uri": "https://localhost:8080/"
        },
        "id": "uO_oHUMuZH3D",
        "outputId": "d65883ca-eb8e-4e5a-c1dc-cba22e3ff8a0"
      },
      "execution_count": 41,
      "outputs": [
        {
          "output_type": "stream",
          "name": "stdout",
          "text": [
            "\u001b[1m135/135\u001b[0m \u001b[32m━━━━━━━━━━━━━━━━━━━━\u001b[0m\u001b[37m\u001b[0m \u001b[1m5s\u001b[0m 13ms/step - loss: 0.0470 - mae: 0.1758\n"
          ]
        }
      ]
    }
  ]
}